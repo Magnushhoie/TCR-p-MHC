{
 "cells": [
  {
   "cell_type": "markdown",
   "metadata": {},
   "source": [
    "### Import"
   ]
  },
  {
   "cell_type": "code",
   "execution_count": 7,
   "metadata": {},
   "outputs": [],
   "source": [
    "import optparse, os, sys, glob, re, pickle, time, datetime\n",
    "sys.path.insert(0, \"/home/maghoi/Magnus_pMHC/\")\n",
    "import matplotlib.pyplot as plt\n",
    "%reload_ext autoreload\n",
    "%autoreload 2\n",
    "%matplotlib inline"
   ]
  },
  {
   "cell_type": "code",
   "execution_count": 8,
   "metadata": {},
   "outputs": [],
   "source": [
    "import numpy as np\n",
    "import pandas as pd\n",
    "from IPython.display import HTML\n",
    "def html(df):\n",
    "    return(HTML(pd.DataFrame(df).to_html()))\n",
    "#Pandas error \"lazyConfigValue object has no attribute lower\"\n",
    "get_ipython().config.get('IPKernelApp', {})['parent_appname'] = \"\"\n",
    "\n",
    "#FastAI functions\n",
    "from fastai.basic_data import *\n",
    "from fastai.basic_train import *\n",
    "from fastai.callbacks import *\n",
    "from fastai.data_block import *\n",
    "from fastai.metrics import *\n",
    "from fastai.train import *\n",
    "from fastai.utils import *\n",
    "from fastai.core import *\n",
    "from fastai.gen_doc import *\n",
    "\n",
    "#Disable training progress bar (set next to learner fit)\n",
    "import fastprogress\n",
    "fastprogress.fastprogress.NO_BAR = True\n",
    "master_bar, progress_bar = fastprogress.force_console_behavior()\n",
    "master_bar, progress_bar = master_bar, progress_bar\n",
    "\n",
    "\n",
    "#Pytorch\n",
    "import torch\n",
    "import torch.nn as nn\n",
    "import torch.utils.data as tdatautils\n",
    "\n",
    "#Stats\n",
    "import matplotlib.pyplot as plt\n",
    "from itertools import cycle\n",
    "from scipy import interp\n",
    "\n",
    "from sklearn import metrics, svm, datasets, random_projection\n",
    "from sklearn.metrics import f1_score, confusion_matrix, roc_curve, auc, roc_auc_score, matthews_corrcoef, average_precision_score \n",
    "from sklearn.preprocessing import Normalizer, MinMaxScaler, label_binarize\n",
    "from sklearn.model_selection import train_test_split\n",
    "from sklearn.multiclass import OneVsRestClassifier\n",
    "\n",
    "#Dataloaders and custom scripts\n",
    "from allscripts import data_generator, data_generator_blosum, data_generator_filenames\n",
    "from allscripts import upsample, generate_weights"
   ]
  },
  {
   "cell_type": "markdown",
   "metadata": {
    "heading_collapsed": true
   },
   "source": [
    "### Load data (old)"
   ]
  },
  {
   "cell_type": "code",
   "execution_count": 287,
   "metadata": {
    "hidden": true,
    "hide_input": false
   },
   "outputs": [],
   "source": [
    "filelist_loaded = []\n",
    "filelist = glob.glob(\"/scratch/maghoi/pMHC_data/features5/*.csv\"); len(filelist)\n",
    "for i in range(0, len(filelist)):\n",
    "    df = pd.read_csv(filelist[i])\n",
    "    #df = df.drop([\"Unnamed: 0\", \"Num\", \"pACC\", \"CNb\"], axis = 1)\n",
    "\n",
    "    #Convert categorical values (res + solvent acc cateogry) to string\n",
    "    #df.iloc[:, 0:2] = df.iloc[:, 0:2].astype(int).astype(str)\n",
    "    filelist_loaded.append(df)"
   ]
  },
  {
   "cell_type": "markdown",
   "metadata": {
    "heading_collapsed": true
   },
   "source": [
    "### Load prepared .npy files"
   ]
  },
  {
   "cell_type": "code",
   "execution_count": 6,
   "metadata": {
    "ExecuteTime": {
     "end_time": "2019-04-15T12:41:25.693874Z",
     "start_time": "2019-04-15T12:41:25.690278Z"
    },
    "hidden": true,
    "init_cell": true
   },
   "outputs": [
    {
     "name": "stdout",
     "output_type": "stream",
     "text": [
      "1464\n",
      "1336\n",
      "1080\n",
      "0\n"
     ]
    }
   ],
   "source": [
    "ix_train = 1080\n",
    "ix_val = 256\n",
    "ix_test = 128\n",
    "data_size=1464\n",
    "\n",
    "ix_test = data_size - ix_test\n",
    "ix_val = ix_test - ix_val\n",
    "ix_train = ix_val - ix_train\n",
    "\n",
    "print(data_size)\n",
    "print(ix_test)\n",
    "print(ix_val)\n",
    "print(ix_train)"
   ]
  },
  {
   "cell_type": "markdown",
   "metadata": {},
   "source": [
    "### Choice: Load by partition"
   ]
  },
  {
   "cell_type": "code",
   "execution_count": 63,
   "metadata": {},
   "outputs": [
    {
     "name": "stdout",
     "output_type": "stream",
     "text": [
      "m1.npy\tnames.pickle\ttarget_y.pickle  X_mhc.pickle  X_tcr_a.pickle\n",
      "m2.npy\tPAR_VEC.pickle\tX_mhc\t\t X_pep.pickle  X_tcr_b.pickle\n"
     ]
    }
   ],
   "source": [
    "!ls /home/maghoi/pMHC_data/02_Features/"
   ]
  },
  {
   "cell_type": "code",
   "execution_count": 3,
   "metadata": {
    "ExecuteTime": {
     "end_time": "2019-04-15T12:41:25.720649Z",
     "start_time": "2019-04-15T12:41:25.696241Z"
    },
    "init_cell": true
   },
   "outputs": [
    {
     "data": {
      "text/plain": [
       "(1176, 288, 264, 336, 312, 288, 264, 264)"
      ]
     },
     "execution_count": 3,
     "metadata": {},
     "output_type": "execute_result"
    }
   ],
   "source": [
    "p0 = glob.glob(\"/home/maghoi/pMHC_data/features9/*0p*\")\n",
    "p1 = glob.glob(\"/home/maghoi/pMHC_data/features9/*1p*\")\n",
    "p2 = glob.glob(\"/home/maghoi/pMHC_data/features9/*2p*\")\n",
    "p3 = glob.glob(\"/home/maghoi/pMHC_data/features9/*3p*\")\n",
    "p4 = glob.glob(\"/home/maghoi/pMHC_data/features9/*4p*\")\n",
    "\n",
    "train = p0 + p1 + p3 + p4\n",
    "valid = p2\n",
    "test = p4\n",
    "\n",
    "len(train), len(valid), len(test), len(p0), len(p1), len(p2), len(p3), len(p4)\n"
   ]
  },
  {
   "cell_type": "markdown",
   "metadata": {},
   "source": [
    "#### fetures 12"
   ]
  },
  {
   "cell_type": "code",
   "execution_count": 364,
   "metadata": {},
   "outputs": [
    {
     "data": {
      "text/plain": [
       "(1200, 264, 264, 336, 312, 288, 264, 264)"
      ]
     },
     "execution_count": 364,
     "metadata": {},
     "output_type": "execute_result"
    }
   ],
   "source": [
    "p0 = glob.glob(\"/home/maghoi/pMHC_data/features12/*0p*\")\n",
    "p1 = glob.glob(\"/home/maghoi/pMHC_data/features12/*1p*\")\n",
    "p2 = glob.glob(\"/home/maghoi/pMHC_data/features12/*2p*\")\n",
    "p3 = glob.glob(\"/home/maghoi/pMHC_data/features12/*3p*\")\n",
    "p4 = glob.glob(\"/home/maghoi/pMHC_data/features12/*4p*\")\n",
    "\n",
    "train = p0 + p1 + p2 + p3 \n",
    "valid = p4\n",
    "test = p4\n",
    "\n",
    "len(train), len(valid), len(test), len(p0), len(p1), len(p2), len(p3), len(p4)\n"
   ]
  },
  {
   "cell_type": "code",
   "execution_count": 333,
   "metadata": {},
   "outputs": [
    {
     "data": {
      "text/plain": [
       "(1200, 264, 264, 336, 312, 288, 264, 264)"
      ]
     },
     "execution_count": 333,
     "metadata": {},
     "output_type": "execute_result"
    }
   ],
   "source": [
    "p0 = glob.glob(\"/home/maghoi/pMHC_data/features_11_old/*0p*\")\n",
    "p1 = glob.glob(\"/home/maghoi/pMHC_data/features_11_old/*1p*\")\n",
    "p2 = glob.glob(\"/home/maghoi/pMHC_data/features_11_old/*2p*\")\n",
    "p3 = glob.glob(\"/home/maghoi/pMHC_data/features_11_old/*3p*\")\n",
    "p4 = glob.glob(\"/home/maghoi/pMHC_data/features_11_old/*4p*\")\n",
    "\n",
    "train = p0 + p1 + p3 + p4\n",
    "valid = p4\n",
    "test = p4\n",
    "\n",
    "len(train), len(valid), len(test), len(p0), len(p1), len(p2), len(p3), len(p4)\n"
   ]
  },
  {
   "cell_type": "code",
   "execution_count": 4,
   "metadata": {
    "ExecuteTime": {
     "end_time": "2019-04-15T12:41:28.043364Z",
     "start_time": "2019-04-15T12:41:25.744341Z"
    },
    "init_cell": true
   },
   "outputs": [
    {
     "name": "stdout",
     "output_type": "stream",
     "text": [
      "(2007, 468, 56) (2007,)\n",
      "(444, 468, 56) (444,)\n",
      "(445, 468, 56) (445,)\n"
     ]
    }
   ],
   "source": [
    "# Generate train, valid, test sets\n",
    "Xt,yt, Xt_val, yt_val, Xt_test, yt_test = data_generator(train, valid, test)\n",
    "X0, y0, X0_val, y0_val, X0_test, y0_test = Xt.copy(), yt.copy(), Xt_val.copy(), yt_val.copy(), Xt_test.copy(), yt_test.copy()\n",
    "\n",
    "#Upsample\n",
    "Xp, yp = upsample(Xt, yt)\n",
    "Xp_val, yp_val = upsample(Xt_val, yt_val)\n",
    "Xp_test, yp_test = upsample(Xt_test, yt_test)"
   ]
  },
  {
   "cell_type": "code",
   "execution_count": 49,
   "metadata": {},
   "outputs": [],
   "source": [
    "from pandas import DataFrame\n",
    "from IPython.display import HTML"
   ]
  },
  {
   "cell_type": "code",
   "execution_count": null,
   "metadata": {},
   "outputs": [],
   "source": [
    "new_df = []\n",
    "for i in range(len(Xp)):\n",
    "    #check\n",
    "    #Construct df to add\n",
    "    energy_df = Xp.iloc[i][1:]\n",
    "    energy_df = pd.DataFrame(np.vstack([np.array(energy_df)]*468))"
   ]
  },
  {
   "cell_type": "markdown",
   "metadata": {
    "heading_collapsed": true
   },
   "source": [
    "### Choice: Load by original pMHC CNN data"
   ]
  },
  {
   "cell_type": "code",
   "execution_count": 9,
   "metadata": {
    "hidden": true
   },
   "outputs": [],
   "source": [
    "X_mhc = pd.read_pickle(\"/home/maghoi/pMHC_data/02_Features/X_mhc.pickle\")\n",
    "X_pep = pd.read_pickle(\"/home/maghoi/pMHC_data/02_Features/X_pep.pickle\")\n",
    "X_tcr_a = pd.read_pickle(\"/home/maghoi/pMHC_data/02_Features/X_tcr_a.pickle\")\n",
    "X_tcr_b = pd.read_pickle(\"/home/maghoi/pMHC_data/02_Features/X_tcr_b.pickle\")\n",
    "PAR_VEC = pd.read_pickle(\"/home/maghoi/pMHC_data/02_Features/PAR_VEC.pickle\")\n",
    "target_y = pd.read_pickle(\"/home/maghoi/pMHC_data/02_Features/target_y.pickle\")\n",
    "names = pd.read_pickle(\"/home/maghoi/pMHC_data/02_Features/names.pickle\")"
   ]
  },
  {
   "cell_type": "code",
   "execution_count": 10,
   "metadata": {},
   "outputs": [],
   "source": [
    "import numpy as np\n",
    "from sklearn.preprocessing import StandardScaler\n",
    "from sklearn import preprocessing\n",
    "def norm3d(df):\n",
    "    train_data = df\n",
    "    scaler = StandardScaler()\n",
    "    num_instances, num_time_steps, num_features = train_data.shape\n",
    "    train_data = np.reshape(train_data, newshape=(-1, num_features))\n",
    "    train_data = scaler.fit_transform(train_data)\n",
    "    train_data = np.reshape(train_data, newshape=(num_instances, num_time_steps, num_features))\n",
    "    return train_data\n",
    "\n"
   ]
  },
  {
   "cell_type": "code",
   "execution_count": 11,
   "metadata": {
    "hidden": true
   },
   "outputs": [
    {
     "name": "stdout",
     "output_type": "stream",
     "text": [
      "Train part [0, 1, 2, 3]\n",
      "Val part 4\n",
      "(716, 468, 13) (716,)\n",
      "(338, 468, 13) (338,)\n",
      "(318, 468, 13) (318,)\n"
     ]
    }
   ],
   "source": [
    "#Load\n",
    "X, y, X_val, y_val, X_test, y_test = data_generator_blosum(X_mhc, X_pep, X_tcr_a, X_tcr_b, target_y,\n",
    "                                                           names, PAR_VEC, norm = False)\n",
    "\n",
    "X0, y0, X0_val, y0_val, X0_test, y0_test = X.copy(), y.copy(), X_val.copy(), y_val.copy(), X_test.copy(), y_test.copy()\n",
    "\n",
    "#Upsample\n",
    "Xp, yp = upsample(X, y)\n",
    "Xp_val, yp_val = upsample(X_val, y_val)\n",
    "Xp_test, yp_test = upsample(X_test, y_test)\n",
    "\n"
   ]
  },
  {
   "cell_type": "markdown",
   "metadata": {
    "heading_collapsed": true
   },
   "source": [
    "### Choice: Load by filename (standard, 1-hot aminos)"
   ]
  },
  {
   "cell_type": "code",
   "execution_count": 34,
   "metadata": {
    "ExecuteTime": {
     "end_time": "2019-04-11T11:15:28.822712Z",
     "start_time": "2019-04-11T11:15:27.481777Z"
    },
    "scrolled": false
   },
   "outputs": [
    {
     "name": "stdout",
     "output_type": "stream",
     "text": [
      "CPU times: user 637 ms, sys: 469 ms, total: 1.11 s\n",
      "Wall time: 1.33 s\n"
     ]
    }
   ],
   "source": [
    "%%time\n",
    "X,y, X_val, y_val, X_test, y_test = data_generator_filenames()\n",
    "X0, y0, X0_val, y0_val, X0_test, y0_test = X.copy(), y.copy(), X_val.copy(), y_val.copy(), X_test.copy(), y_test.copy()\n",
    "\n",
    "%%time\n",
    "Xp, yp = upsample(X, y)\n",
    "Xp_val, yp_val = upsample(X_val, y_val)\n",
    "Xp_test, yp_test = upsample(X_test, y_test)"
   ]
  },
  {
   "cell_type": "markdown",
   "metadata": {},
   "source": [
    "### Upsampled positives in sample"
   ]
  },
  {
   "cell_type": "markdown",
   "metadata": {},
   "source": [
    "### 1.b Map the data to float/int as appropriate"
   ]
  },
  {
   "cell_type": "markdown",
   "metadata": {},
   "source": [
    "Classification requires that targets are type INT"
   ]
  },
  {
   "cell_type": "code",
   "execution_count": 12,
   "metadata": {
    "ExecuteTime": {
     "end_time": "2019-04-15T12:41:29.166142Z",
     "start_time": "2019-04-15T12:41:28.477025Z"
    },
    "init_cell": true
   },
   "outputs": [],
   "source": [
    "def to_torch_data(x,np_type,tch_type):\n",
    "    return torch.from_numpy(x.astype(np_type)).to(tch_type)\n",
    "\n",
    "X, X_val, X_test = map(lambda x: to_torch_data(x,float,torch.float32),(Xp, Xp_val, Xp_test))\n",
    "y, y_val, y_test = map(lambda x: to_torch_data(x,int,torch.int64),(yp, yp_val, yp_test))\n",
    "\n",
    "train_ds = tdatautils.TensorDataset(X, y)\n",
    "valid_ds = tdatautils.TensorDataset(X_val, y_val)\n",
    "test_ds = tdatautils.TensorDataset(X_test, y_test)\n",
    "\n",
    "X0, X0_val, X0_test = map(lambda x: to_torch_data(x,float,torch.float32),(X0, X0_val, X0_test))\n",
    "y0, y0_val, y0_test = map(lambda x: to_torch_data(x,int,torch.int64),(y0, y0_val, y0_test))\n",
    "\n",
    "train_ds0 = tdatautils.TensorDataset(X0, y0)\n",
    "valid_ds0 = tdatautils.TensorDataset(X0_val, y0_val)\n",
    "test_ds0 = tdatautils.TensorDataset(X0_test, y0_test)\n"
   ]
  },
  {
   "cell_type": "code",
   "execution_count": 13,
   "metadata": {},
   "outputs": [],
   "source": [
    "def csvfile(n = 10, filename = \"/home/maghoi/main/data/Stats1.csv\"):\n",
    "    df = pd.read_csv(filename)\n",
    "    return df.tail(n)"
   ]
  },
  {
   "cell_type": "code",
   "execution_count": 14,
   "metadata": {},
   "outputs": [],
   "source": [
    "def stats(ds = DatasetType.Valid):\n",
    "\n",
    "    #Get raw predictions\n",
    "    preds = learn.get_preds(ds)\n",
    "    outputs = preds[0]\n",
    "    targets = preds[1]\n",
    "\n",
    "    #Find highest multi-class prediction (yes, this is wrong ...)\n",
    "    yhat = []\n",
    "\n",
    "    for i in range(len(outputs)):\n",
    "        pred = outputs[i].tolist()\n",
    "        pred = pred.index(max(pred))\n",
    "        yhat.append(pred)\n",
    "\n",
    "    #Pairwise comparison\n",
    "    yhat = np.array(yhat)\n",
    "    y_true = np.array(targets)\n",
    "    y_scores = outputs[:, 1]\n",
    "    y_scores_binary = np.where(y_scores > 0.5, 1, 0)\n",
    "\n",
    "    correct = yhat == y_true\n",
    "    auc = roc_auc_score(y_true, y_scores)\n",
    "    mcc = matthews_corrcoef(y_true, y_scores_binary)\n",
    "    f1 = f1_score(y_true, y_scores_binary, average=\"binary\")\n",
    "    avp = average_precision_score(y_true, y_scores)\n",
    "\n",
    "\n",
    "    print(\"Correct:\", round(sum(correct) / len(targets), 3))\n",
    "    print(\"AUC\", round(auc, 3))\n",
    "    print(\"MCC\", round(mcc, 3))\n",
    "    print(\"F1\", round(f1, 3))\n",
    "    print(\"AVP\", round(avp, 3))\n",
    "\n",
    "    print(\"\\nTn, fp, fn, tp\")\n",
    "    print(confusion_matrix(y_true, yhat))\n",
    "    tn, fp, fn, tp = confusion_matrix(y_true, yhat).ravel()\n",
    "    tpr = (tp / (tp+fn))\n",
    "    tnr = (tn / (tn+fp))\n",
    "    precision = tp / (tp + fp)\n",
    "    recall = tp / (tp + fn)\n",
    "    \n",
    "    print(\"TPR:\", round(tpr, 3))\n",
    "    print(\"TNR:\", round(tnr, 3))\n",
    "    print(\"Prec:\", round(precision, 3))\n",
    "    print(\"Rec:\", round(recall, 3))\n"
   ]
  },
  {
   "cell_type": "code",
   "execution_count": 15,
   "metadata": {},
   "outputs": [],
   "source": [
    "def stat_graphs(ds = DatasetType.Valid):\n",
    "    # Compute ROC curve and ROC area for each class\n",
    "    preds = learn.get_preds(ds)\n",
    "    yhat = preds[0][:, 1]\n",
    "    ytrue = preds[1]\n",
    "    yhat = np.array(yhat)\n",
    "    \n",
    "    stats()\n",
    "\n",
    "    plt.scatter(yhat, ytrue, alpha=0.1) #Features 9 on parittions\n",
    "\n",
    "    fpr = dict()\n",
    "    tpr = dict()\n",
    "\n",
    "    ytrue=np.array(ytrue)\n",
    "    roc_auc = dict()\n",
    "    fpr[0], tpr[0], steps = roc_curve(ytrue, yhat, pos_label=1, drop_intermediate=False)\n",
    "    roc_auc[0] = auc(fpr[0], tpr[0])\n",
    "\n",
    "    #Shared weights\n",
    "    plt.figure()\n",
    "    lw = 2\n",
    "    plt.plot(fpr[0], tpr[0], color='darkorange',\n",
    "             lw=lw, label='ROC curve (area = %0.2f)' % roc_auc[0])\n",
    "    plt.plot([0, 1], [0, 1], color='navy', lw=lw, linestyle='--')\n",
    "    plt.xlim([0.0, 1.0])\n",
    "    plt.ylim([0.0, 1.05])\n",
    "    plt.xlabel('False Positive Rate')\n",
    "    plt.ylabel('True Positive Rate')\n",
    "    plt.title('Receiver operating characteristic example')\n",
    "    plt.legend(loc=\"lower right\")\n",
    "    plt.show()"
   ]
  },
  {
   "cell_type": "code",
   "execution_count": 571,
   "metadata": {},
   "outputs": [
    {
     "name": "stdout",
     "output_type": "stream",
     "text": [
      "Correct: 0.758\n",
      "AUC 0.679\n",
      "MCC 0.202\n",
      "F1 0.347\n",
      "AVP 0.284\n",
      "\n",
      "Tn, fp, fn, tp\n",
      "[[183  37]\n",
      " [ 27  17]]\n",
      "TPR: 0.386\n",
      "TNR: 0.832\n",
      "Prec: 0.315\n",
      "Rec: 0.386\n"
     ]
    },
    {
     "ename": "TypeError",
     "evalue": "'numpy.float64' object is not callable",
     "output_type": "error",
     "traceback": [
      "\u001b[0;31m---------------------------------------------------------------------------\u001b[0m",
      "\u001b[0;31mTypeError\u001b[0m                                 Traceback (most recent call last)",
      "\u001b[0;32m<ipython-input-571-162c7aabd8b6>\u001b[0m in \u001b[0;36m<module>\u001b[0;34m\u001b[0m\n\u001b[1;32m     39\u001b[0m \u001b[0mroc_auc\u001b[0m \u001b[0;34m=\u001b[0m \u001b[0mdict\u001b[0m\u001b[0;34m(\u001b[0m\u001b[0;34m)\u001b[0m\u001b[0;34m\u001b[0m\u001b[0;34m\u001b[0m\u001b[0m\n\u001b[1;32m     40\u001b[0m \u001b[0mfpr\u001b[0m\u001b[0;34m[\u001b[0m\u001b[0;36m0\u001b[0m\u001b[0;34m]\u001b[0m\u001b[0;34m,\u001b[0m \u001b[0mtpr\u001b[0m\u001b[0;34m[\u001b[0m\u001b[0;36m0\u001b[0m\u001b[0;34m]\u001b[0m\u001b[0;34m,\u001b[0m \u001b[0msteps\u001b[0m \u001b[0;34m=\u001b[0m \u001b[0mroc_curve\u001b[0m\u001b[0;34m(\u001b[0m\u001b[0my_true\u001b[0m\u001b[0;34m,\u001b[0m \u001b[0my_hat_binary\u001b[0m\u001b[0;34m,\u001b[0m \u001b[0mpos_label\u001b[0m\u001b[0;34m=\u001b[0m\u001b[0;36m1\u001b[0m\u001b[0;34m,\u001b[0m \u001b[0mdrop_intermediate\u001b[0m\u001b[0;34m=\u001b[0m\u001b[0;32mFalse\u001b[0m\u001b[0;34m)\u001b[0m\u001b[0;34m\u001b[0m\u001b[0;34m\u001b[0m\u001b[0m\n\u001b[0;32m---> 41\u001b[0;31m \u001b[0mroc_auc\u001b[0m\u001b[0;34m[\u001b[0m\u001b[0;36m0\u001b[0m\u001b[0;34m]\u001b[0m \u001b[0;34m=\u001b[0m \u001b[0mauc\u001b[0m\u001b[0;34m(\u001b[0m\u001b[0mfpr\u001b[0m\u001b[0;34m[\u001b[0m\u001b[0;36m0\u001b[0m\u001b[0;34m]\u001b[0m\u001b[0;34m,\u001b[0m \u001b[0mtpr\u001b[0m\u001b[0;34m[\u001b[0m\u001b[0;36m0\u001b[0m\u001b[0;34m]\u001b[0m\u001b[0;34m)\u001b[0m\u001b[0;34m\u001b[0m\u001b[0;34m\u001b[0m\u001b[0m\n\u001b[0m\u001b[1;32m     42\u001b[0m \u001b[0;34m\u001b[0m\u001b[0m\n\u001b[1;32m     43\u001b[0m \u001b[0;31m#Shared weights\u001b[0m\u001b[0;34m\u001b[0m\u001b[0;34m\u001b[0m\u001b[0;34m\u001b[0m\u001b[0m\n",
      "\u001b[0;31mTypeError\u001b[0m: 'numpy.float64' object is not callable"
     ]
    },
    {
     "data": {
      "image/png": "[encoded data removed]",
      "text/plain": [
       "<Figure size 432x288 with 1 Axes>"
      ]
     },
     "metadata": {
      "needs_background": "light"
     },
     "output_type": "display_data"
    }
   ],
   "source": [
    "# Compute ROC curve and ROC area for each class\n",
    "preds = learn.get_preds()\n",
    "y_hat = np.array(preds[0][:, 1])\n",
    "y_true = np.array(preds[1])\n",
    "y_hat_binary = np.where(y_hat > 0.5, 1, 0)\n",
    "\n",
    "correct = y_hat_binary == y_true\n",
    "auc = roc_auc_score(y_true, y_hat)\n",
    "mcc = matthews_corrcoef(y_true, y_hat_binary)\n",
    "f1 = f1_score(y_true, y_hat_binary, average=\"binary\")\n",
    "avp = average_precision_score(y_true, y_hat)\n",
    "\n",
    "\n",
    "print(\"Correct:\", round(sum(correct) / len(y_true), 3))\n",
    "print(\"AUC\", round(auc, 3))\n",
    "print(\"MCC\", round(mcc, 3))\n",
    "print(\"F1\", round(f1, 3))\n",
    "print(\"AVP\", round(avp, 3))\n",
    "\n",
    "print(\"\\nTn, fp, fn, tp\")\n",
    "print(confusion_matrix(y_true, y_hat_binary))\n",
    "tn, fp, fn, tp = confusion_matrix(y_true, y_hat_binary).ravel()\n",
    "tpr = (tp / (tp+fn))\n",
    "tnr = (tn / (tn+fp))\n",
    "precision = tp / (tp + fp)\n",
    "recall = tp / (tp + fn)\n",
    "\n",
    "print(\"TPR:\", round(tpr, 3))\n",
    "print(\"TNR:\", round(tnr, 3))\n",
    "print(\"Prec:\", round(precision, 3))\n",
    "print(\"Rec:\", round(recall, 3))\n",
    "\n",
    "plt.scatter(y_hat, y_true, alpha=0.1) #Features 9 on parittions\n",
    "\n",
    "fpr = dict()\n",
    "tpr = dict()\n",
    "\n",
    "y_true=np.array(y_true)\n",
    "roc_auc = dict()\n",
    "fpr[0], tpr[0], steps = roc_curve(y_true, y_hat_binary, pos_label=1, drop_intermediate=False)\n",
    "roc_auc[0] = auc(fpr[0], tpr[0])\n",
    "\n",
    "#Shared weights\n",
    "plt.figure()\n",
    "lw = 2\n",
    "plt.plot(fpr[0], tpr[0], color='darkorange',\n",
    "         lw=lw, label='ROC curve (area = %0.2f)' % roc_auc[0])\n",
    "plt.plot([0, 1], [0, 1], color='navy', lw=lw, linestyle='--')\n",
    "plt.xlim([0.0, 1.0])\n",
    "plt.ylim([0.0, 1.05])\n",
    "plt.xlabel('False Positive Rate')\n",
    "plt.ylabel('True Positive Rate')\n",
    "plt.title('Receiver operating characteristic example')\n",
    "plt.legend(loc=\"lower right\")\n",
    "plt.show()"
   ]
  },
  {
   "cell_type": "code",
   "execution_count": 17,
   "metadata": {},
   "outputs": [],
   "source": [
    "now = time.time()\n",
    "def stats_to_csv(start_time = time.time(), val_part = 4, test_part = int(), comment = \"\", ds=DatasetType.Valid):\n",
    "    train_str = [0, 1, 2, 3, 4]\n",
    "    val_str = val_part\n",
    "    test_str = test_part\n",
    "    \n",
    "    stat_df = pd.DataFrame(columns = [\"Comment\", \"Test\", \"Validation\", \"Training\", \"Correct\", \"AUC\", \"MCC\", \"AVP\", \"TPR\", \"TNR\", \"Confusion matrix\", \"Duration (s)\", \"Timestamp\"])\n",
    "    \n",
    "    #Check for CSV file\n",
    "    if not glob.glob(\"/home/maghoi/main/data/Stats1.csv\"):\n",
    "        stat_df.to_csv(\"/home/maghoi/main/data/Stats1.csv\", mode = \"w\", header = True, index = False)\n",
    "    \n",
    "    #Remove val / test from training parts\n",
    "    train_str.remove(val_str)\n",
    "    if test_part != int():\n",
    "        train_str.remove(test_str)\n",
    "    \n",
    "    #Get model performance\n",
    "    data = record_stats(ds = ds)\n",
    "    \n",
    "    duration = round(time.time() - start_time)\n",
    "    timestamp = str(datetime.datetime.now())\n",
    "    \n",
    "    #Add to stat_df and save to CSV\n",
    "    row = [comment, test_str, val_str, train_str] + list(data) + [duration, timestamp]\n",
    "    stat_df.loc[len(stat_df)] = row\n",
    "    stat_df.to_csv(\"/home/maghoi/main/data/Stats1.csv\", mode = \"a\", header = False, index = True)\n",
    "    print(row)"
   ]
  },
  {
   "cell_type": "markdown",
   "metadata": {},
   "source": [
    "### Model start"
   ]
  },
  {
   "cell_type": "code",
   "execution_count": 54,
   "metadata": {},
   "outputs": [],
   "source": [
    "####\n",
    "# CNN START\n",
    "####\n",
    "\n",
    "#Hyperparams for CNN\n",
    "\n",
    "criterion = nn.CrossEntropyLoss()\n",
    "in_channel = 1\n",
    "n_hid = 56\n",
    "epochs = 0\n",
    "f = int(8)\n",
    "\n",
    "batch_size = 32\n",
    "drop_prob = 0.2\n",
    "\n",
    "ks0 = 1\n",
    "pad0 = int((ks0) / 2)\n",
    "ks1 = 11\n",
    "pad1 = int((ks1) / 2)\n",
    "ks2 = 9\n",
    "pad2 = int((ks2) / 2)\n",
    "ks3 = 7\n",
    "pad3 = int((ks3) / 2)\n",
    "ks4 = 7\n",
    "pad4 = int((ks4) / 2)\n",
    "ks5 = 5\n",
    "pad5 = int((ks5) / 2)\n",
    "ks6 = 3\n",
    "pad6 = int((ks6) / 2)\n",
    "\n",
    "class Model(nn.Module):\n",
    "    def __init__(self):\n",
    "        super(Model, self).__init__()\n",
    "        \n",
    "        #Batchnorm0\n",
    "        self.a_norm_0 = nn.BatchNorm1d(in_channel)\n",
    "        \n",
    "        #Pad\n",
    "        self.m_pad = nn.ConstantPad1d((160), 0)\n",
    "        self.t_pad = nn.ConstantPad1d((118), 0)\n",
    "        #self.p_pad = nn.ConstantPad1d((112, 113), 0)\n",
    "        \n",
    "        #Conv1\n",
    "        self.m_conv_1 = nn.Conv1d(in_channels = in_channel, out_channels = n_hid, kernel_size = ks1, padding = pad1)\n",
    "        self.m_norm_1 = nn.BatchNorm1d(n_hid)\n",
    "        self.m_max_1 = nn.AvgPool1d(kernel_size = 2, stride = 2)\n",
    "        self.m_drop_1 = nn.Dropout(p = drop_prob)\n",
    "        self.m_ReLU_1 = nn.ReLU()\n",
    "\n",
    "        self.t_conv_1 = nn.Conv1d(in_channels = in_channel, out_channels = n_hid, kernel_size = ks1, padding = pad1)\n",
    "        self.t_norm_1 = nn.BatchNorm1d(n_hid)\n",
    "        self.t_max_1 = nn.AvgPool1d(kernel_size = 2, stride = 2)\n",
    "        self.t_drop_1 = nn.Dropout(p = drop_prob)\n",
    "        self.t_ReLU_1 = nn.ReLU()\n",
    "\n",
    "        #Conv2\n",
    "        self.m_conv_2 = nn.Conv1d(in_channels = n_hid, out_channels = n_hid, kernel_size = ks2, padding = pad2)\n",
    "        self.m_norm_2 = nn.BatchNorm1d(n_hid)\n",
    "        self.m_max_2 = nn.AvgPool1d(kernel_size = 2, stride = 2)\n",
    "        self.m_drop_2 = nn.Dropout(p = drop_prob)\n",
    "        self.m_ReLU_2 = nn.ReLU()\n",
    "        self.m_norm_22 = nn.BatchNorm1d(n_hid)\n",
    "        self.m_ReLU_22 = nn.ReLU()\n",
    "\n",
    "        self.t_conv_2 = nn.Conv1d(in_channels = n_hid, out_channels = n_hid, kernel_size = ks2, padding = pad2)\n",
    "        self.t_norm_2 = nn.BatchNorm1d(n_hid)\n",
    "        self.t_max_2 = nn.AvgPool1d(kernel_size = 2, stride = 2)\n",
    "        self.t_drop_2 = nn.Dropout(p = drop_prob)\n",
    "        self.t_ReLU_2 = nn.ReLU()\n",
    "\n",
    "\n",
    "        #Conv3\n",
    "        self.m_conv_3 = nn.Conv1d(in_channels = n_hid, out_channels = n_hid, kernel_size = ks3, padding = pad3)\n",
    "        self.m_norm_3 = nn.BatchNorm1d(n_hid)\n",
    "        self.m_max_3 = nn.AvgPool1d(kernel_size = 2, stride = 2)\n",
    "        self.m_drop_3 = nn.Dropout(p = drop_prob)\n",
    "        self.m_ReLU_3 = nn.ReLU()\n",
    "\n",
    "        self.t_conv_3 = nn.Conv1d(in_channels = n_hid, out_channels = n_hid, kernel_size = ks3, padding = pad3)\n",
    "        self.t_norm_3 = nn.BatchNorm1d(n_hid)\n",
    "        self.t_max_3 = nn.AvgPool1d(kernel_size = 2, stride = 2)\n",
    "        self.t_drop_3 = nn.Dropout(p = drop_prob)\n",
    "        self.t_ReLU_3 = nn.ReLU()\n",
    "\n",
    "        #Conv4\n",
    "        self.m_conv_4 = nn.Conv1d(in_channels = n_hid, out_channels = n_hid, kernel_size = ks4, padding = pad4)\n",
    "        self.m_norm_4 = nn.BatchNorm1d(n_hid)\n",
    "        self.m_max_4 = nn.AvgPool1d(kernel_size = 2, stride = 2)\n",
    "        self.m_drop_4 = nn.Dropout(p = drop_prob)\n",
    "        self.m_ReLU_4 = nn.ReLU()\n",
    "\n",
    "        self.t_conv_4 = nn.Conv1d(in_channels = n_hid, out_channels = n_hid, kernel_size = ks4, padding = pad4)\n",
    "        self.t_norm_4 = nn.BatchNorm1d(n_hid)\n",
    "        self.t_max_4 = nn.AvgPool1d(kernel_size = 2, stride = 2)\n",
    "        self.t_drop_4 = nn.Dropout(p = drop_prob)\n",
    "        self.t_ReLU_4 = nn.ReLU()\n",
    "\n",
    "        #Conv5\n",
    "        self.m_conv_5 = nn.Conv1d(in_channels = n_hid, out_channels = n_hid, kernel_size = ks5, padding = pad5)\n",
    "        self.m_norm_5 = nn.BatchNorm1d(n_hid)\n",
    "        self.m_max_5 = nn.AvgPool1d(kernel_size = 2, stride = 2)\n",
    "        self.m_drop_5 = nn.Dropout(p = drop_prob)\n",
    "        self.m_ReLU_5 = nn.ReLU()\n",
    "\n",
    "        self.t_conv_5 = nn.Conv1d(in_channels = n_hid, out_channels = n_hid, kernel_size = ks5, padding = pad5)\n",
    "        self.t_norm_5 = nn.BatchNorm1d(n_hid)\n",
    "        self.t_max_5 = nn.AvgPool1d(kernel_size = 2, stride = 2)\n",
    "        self.t_drop_5 = nn.Dropout(p = drop_prob)\n",
    "        self.t_ReLU_5 = nn.ReLU()\n",
    "        \n",
    "        #Conv6\n",
    "        self.m_conv_6 = nn.Conv1d(in_channels = n_hid, out_channels = n_hid, kernel_size = ks6, padding = pad6)\n",
    "        self.m_norm_6 = nn.BatchNorm1d(n_hid)\n",
    "        self.m_max_6 = nn.AvgPool1d(kernel_size = 2, stride = 2)\n",
    "        self.m_drop_6 = nn.Dropout(p = drop_prob)\n",
    "        self.m_ReLU_6 = nn.ReLU()\n",
    "\n",
    "        self.t_conv_6 = nn.Conv1d(in_channels = n_hid, out_channels = n_hid, kernel_size = ks6, padding = pad6)\n",
    "        self.t_norm_6 = nn.BatchNorm1d(n_hid)\n",
    "        self.t_max_6 = nn.AvgPool1d(kernel_size = 2, stride = 2)\n",
    "        self.t_drop_6 = nn.Dropout(p = drop_prob)\n",
    "        self.t_ReLU_6 = nn.ReLU()\n",
    "        \n",
    "        #Random projection module\n",
    "        self.mrp_Linear = nn.Linear(in_features = (f)*n_hid, out_features = f*n_hid)\n",
    "        self.mrp_norm = nn.BatchNorm1d(f*n_hid)\n",
    "        self.mrp_ReLU = nn.ReLU()\n",
    "\n",
    "        self.trp_Linear = nn.Linear(in_features = (f)*n_hid, out_features = f*n_hid)\n",
    "        self.trp_norm = nn.BatchNorm1d(f*n_hid)\n",
    "        self.trp_ReLU = nn.ReLU()\n",
    "\n",
    "        self.mrp_prerpnorm = nn.BatchNorm1d(f*n_hid)\n",
    "        self.trp_prerpnorm = nn.BatchNorm1d(f*n_hid)\n",
    "\n",
    "        #Prediction module\n",
    "        self.a_Linear0 = nn.Linear(in_features = f*n_hid, out_features = f*n_hid)\n",
    "        self.a_BatchNorm = nn.BatchNorm1d(f*n_hid)\n",
    "        self.a_ReLU = nn.ReLU(f*n_hid)\n",
    "\n",
    "        #self.a_Dropout = nn.Dropout(p = 0.5)\n",
    "        #self.a_linear = nn.Linear(in_features = f*n_hid, out_features = f*n_hid)\n",
    "        #self.a_tanh1 = nn.Tanh()\n",
    "        self.a_Linear2 = nn.Linear(in_features = f*n_hid, out_features = 2)\n",
    "        #self.a_sigmoid = nn.Sigmoid()\n",
    "\n",
    "\n",
    "    def forward(self, x):\n",
    "        global ps\n",
    "        bs0 = x.shape[0]\n",
    "        x = x[:, :, 1:2]\n",
    "    \n",
    "        if ps: print(\"\\nInput\", x.shape)\n",
    "        x = x.transpose(1, 2)\n",
    "        if ps: print(\"Transpose\", x.shape)\n",
    "            \n",
    "        #x = self.a_norm_0(x)\n",
    "        \n",
    "        mhcp = x[:, :, 0:192]\n",
    "        tcr = x[:, :, 192:]\n",
    "        pep = x[:, :, 181:192]\n",
    "        #tcr = torch.cat((tcr, pep), dim = 2)\n",
    "        if ps: print(\"Shapes\", mhcp.shape, tcr.shape)\n",
    "\n",
    "        mhcp0 = self.m_pad(mhcp)\n",
    "        tcr0 = self.t_pad(tcr)\n",
    "        if ps: print(\"Padded\", mhcp0.shape, tcr0.shape)\n",
    "            \n",
    "        mhcp = self.m_norm_1(self.m_conv_1(mhcp0))\n",
    "        tcr = self.t_norm_1(self.t_conv_1(tcr0))\n",
    "        \n",
    "        mhcp0 = self.m_max_1(self.m_drop_1(self.m_ReLU_1(mhcp)))\n",
    "        tcr0 = self.t_max_1(self.t_drop_1(self.t_ReLU_1(tcr)))\n",
    "        if ps: print(\"Conv1\", mhcp.shape, tcr.shape)\n",
    "\n",
    "        mhcp1 = self.m_max_2(mhcp0 + self.m_drop_2(self.m_ReLU_2(self.m_norm_2(self.m_conv_2(mhcp0)))))\n",
    "        tcr1 = self.t_max_2(tcr0 + self.t_drop_2(self.t_ReLU_2(self.t_norm_2(self.t_conv_2(tcr0)))))\n",
    "        if ps: print(\"Conv2\", mhcp.shape, tcr.shape)\n",
    "\n",
    "        mhcp0 = self.m_max_3(mhcp1 + self.m_drop_3(self.m_ReLU_3(self.m_norm_3(self.m_conv_3(mhcp1)))))\n",
    "        tcr0 = self.t_max_3(tcr1 + self.t_drop_3(self.t_ReLU_3(self.t_norm_3(self.t_conv_3(tcr1)))))\n",
    "        if ps: print(\"Conv3\", mhcp.shape, tcr.shape)\n",
    "\n",
    "        mhcp1 = self.m_max_4(mhcp0 + self.m_drop_4(self.m_ReLU_4(self.m_norm_4(self.m_conv_4(mhcp0)))))\n",
    "        tcr1 = self.t_max_4(tcr0 + self.t_drop_4(self.t_ReLU_4(self.t_norm_4(self.t_conv_4(tcr0)))))\n",
    "        if ps: print(\"Conv4\", mhcp.shape, tcr.shape)\n",
    "\n",
    "        mhcp0 = self.m_max_5(self.m_drop_5(self.m_ReLU_5(self.m_norm_5(self.m_conv_5(mhcp1)))))\n",
    "        tcr0 = self.t_max_5(self.t_drop_5(self.t_ReLU_5(self.t_norm_5(self.t_conv_5(tcr1)))))\n",
    "        if ps: print(\"Conv5\", mhcp.shape, tcr.shape)\n",
    "\n",
    "        mhcp1 = self.m_max_6(self.m_drop_6(self.m_ReLU_6(self.m_norm_6(self.m_conv_6(mhcp0)))))\n",
    "        tcr1 = self.t_max_6(self.t_drop_6(self.t_ReLU_6(self.t_norm_6(self.t_conv_6(tcr0)))))\n",
    "        if ps: print(\"Conv6\", mhcp.shape, tcr.shape)\n",
    "\n",
    "        #Flattening (Pre-RP)\n",
    "        mhcp1 = mhcp1\n",
    "        tcr1 = tcr1\n",
    "        \n",
    "        mhcp = mhcp1.view(bs0, sz0)\n",
    "        tcr = tcr1.view(bs0, sz0)\n",
    "        if ps: print(\"Views\", mhcp.shape, tcr.shape)\n",
    "        \n",
    "        mhcp = self.mrp_ReLU(self.mrp_norm(self.mrp_Linear(mhcp)))\n",
    "        tcr = self.trp_ReLU(self.trp_norm(self.trp_Linear(tcr)))\n",
    "        \n",
    "        #mhcp = mhcp + self.mrp_ReLU(self.mrp_norm(self.mrp_Linear(mhcp)))\n",
    "        #tcr = tcr + self.trp_ReLU(self.trp_norm(self.trp_Linear(tcr)))\n",
    "        if ps: print(\"Pre-rp\", mhcp.shape, tcr.shape, m1.shape, m2.shape)\n",
    "        \n",
    "        #Random projection -> 640\n",
    "        #mhcp = mhcp * m1[0:bs0]\n",
    "        #tcr = tcr * m2[0:bs0]\n",
    "        \n",
    "        #remove batchnorm\n",
    "        #mhcp = mhcp * self.mrp_prerpnorm(m1[0:bs0])\n",
    "        #tcr = tcr * self.trp_prerpnorm(m2[0:bs0])\n",
    "        if ps: print(\"RPed\", mhcp.shape, tcr.shape, pep.shape)\n",
    "        \n",
    "        #mhcp = mhcp * m1[0:bs0]\n",
    "        #tcr = tcr * m2[0:bs0]\n",
    "        if ps: print(\"RPed\", mhcp.shape, tcr.shape, pep.shape)\n",
    "        \n",
    "        #Element Matrix product\n",
    "        allparts = mhcp * tcr\n",
    "        if ps: print(\"Allparts\", allparts.shape)\n",
    "        #if ps: print(\"Allparts avgpool\", allparts.shape)\n",
    "        \n",
    "        #Prediction module\n",
    "        allparts = self.a_Linear2(allparts)\n",
    "        if ps: print(\"Last\", allparts.shape)\n",
    "        ps = False\n",
    "        \n",
    "        x = allparts\n",
    "        #print(x[-1])\n",
    "        return x"
   ]
  },
  {
   "cell_type": "code",
   "execution_count": 25,
   "metadata": {},
   "outputs": [],
   "source": [
    "def early_stopping_train(cycles=4, LR=16*[1e-02, 1e-01], epochs=16*[1],\n",
    "                         val_part = int(4), test_part = int(),\n",
    "                         comment=\"\"):\n",
    "    train_part=[0, 1, 2, 3, 4]\n",
    "    ignore = 0\n",
    "    ignore2 = 0\n",
    "    LR = pd.Series(LR)\n",
    "    now = time.time()\n",
    "    \n",
    "    for i in range(0, cycles):  \n",
    "        #Break condition\n",
    "        if ignore2 >= 2:\n",
    "            print(\"Early stopping\")\n",
    "            break\n",
    "        \n",
    "        print(\"Cycle:\", i+1, \"/\", cycles, \"Epochs:\", epochs[i], \"LR:\", LR[i*2], \"->\", LR[(i*2)+1])\n",
    "        \n",
    "        #Train model\n",
    "        now = time.time()\n",
    "        learn.fit_one_cycle(epochs[i], max_lr=slice(None, LR[i*2], LR[(i*2)+1]), wd = 0.01)\n",
    "        \n",
    "        #Save model and performance\n",
    "        learn.save(\"/home/maghoi/main/data/models/temp_model_no_\" + str(i))\n",
    "        stats_to_csv(learn = learn, start_time = now, comment = comment, val_part = val_part, test_part = test_part)\n",
    "        \n",
    "        if i >= 1:\n",
    "            #Check performance before vs after\n",
    "            df = pd.read_csv(\"/home/maghoi/main/data/Stats1.csv\")\n",
    "            before = float(df.iloc[len(df)-(2+ignore)][\"AUC\"])\n",
    "            after = float(df.iloc[len(df)-(1)][\"AUC\"])\n",
    "            print(before, \"vs\", after)\n",
    "\n",
    "            #Load model before if performance worse\n",
    "            if before > after:\n",
    "                print(\"Higher before, loading previous model ...\")\n",
    "                learn.load(\"/home/maghoi/main/data/models/temp_model_no_\" + str(i - ignore))\n",
    "                ignore += 1\n",
    "\n",
    "                #Lower learning rate if no improvement in 1 cycle or 2 lower-LR cycles\n",
    "                if ignore >= 1:\n",
    "                    #val = 2\n",
    "                    #LR = LR / val\n",
    "                    #print(\"LR /\", val)\n",
    "                    ignore2 += 1   \n",
    "            else:\n",
    "                print(\"AUC higher after, continuing ...\")\n",
    "\n",
    "    #Cleanup\n",
    "    filelist = glob.glob(\"/home/maghoi/main/data/models/temp_model_no_*\")\n",
    "    for file in filelist:\n",
    "        pass\n",
    "        #os.remove(file)\n",
    "    \n",
    "    #Save model\n",
    "    train_part.remove(val_part)\n",
    "    if test_part == int():\n",
    "        test_part = \"X\"\n",
    "    else:\n",
    "        train_part.remove(test_part)\n",
    "\n",
    "    test_str = str(test_part)\n",
    "    val_str = str(val_part)\n",
    "    train_str = \"\".join(map(str, train_part))\n",
    "\n",
    "    filepath = \"/home/maghoi/main/data/models/\" + \"T\" + test_str + \"V\" + val_str + \"_\" + train_str\n",
    "    \n",
    "    learn.save(filepath)\n",
    "    return(filepath)\n",
    "    print(\"Done\")\n",
    "\n"
   ]
  },
  {
   "cell_type": "code",
   "execution_count": 774,
   "metadata": {},
   "outputs": [],
   "source": [
    "stat_df =pd.DataFrame(columns=[\"Correct\", \"AUC\", \"MCC\", \"AVP\", \"TPR\", \"TNR\", \"Confusion\"])\n",
    "stats = pd.DataFrame(test).transpose()\n",
    "stats.columns = stat_df.columns\n",
    "stat_df = stat_df.append(stats)"
   ]
  },
  {
   "cell_type": "code",
   "execution_count": 24,
   "metadata": {},
   "outputs": [],
   "source": [
    "def simple_train(cycles=4, LR=10*[1e-02, 1e-01], epochs=10*[3],\n",
    "                         val_part = int(4), test_part = int(),\n",
    "                         skip = False):\n",
    "    train_part=[0, 1, 2, 3, 4]\n",
    "    LR = pd.Series(LR)\n",
    "    \n",
    "    #Skip validation\n",
    "    if skip == True:\n",
    "        learn.data.valid_dl = None\n",
    "    \n",
    "    #Train model\n",
    "    for i in range(0, cycles):  \n",
    "        print(\"Cycle:\", i+1, \"/\", cycles, \"Epochs:\", epochs[i], \"LR:\", LR[i*2], \"->\", LR[(i*2)+1])\n",
    "        now = time.time()\n",
    "        learn.fit_one_cycle(epochs[i], max_lr=slice(None, LR[i*2], LR[(i*2)+1]), wd = 0.01)\n",
    "    \n",
    "    #Save model to filepath\n",
    "    train_part.remove(val_part)\n",
    "    if test_part == int():\n",
    "        test_part = \"X\"\n",
    "    else:\n",
    "        train_part.remove(test_part)\n",
    "\n",
    "    test_str = str(test_part)\n",
    "    val_str = str(val_part)\n",
    "    train_str = \"\".join(map(str, train_part))\n",
    "\n",
    "    filepath = \"/scratch/maghoi/data/3may/\" + \"T\" + test_str + \"V\" + val_str + \"_\" + train_str\n",
    "    learn.save(filepath)\n",
    "    \n",
    "    return(filepath)\n",
    "\n"
   ]
  },
  {
   "cell_type": "code",
   "execution_count": 662,
   "metadata": {},
   "outputs": [],
   "source": [
    "#import os\n",
    "#os.environ[\"CUDA_VISIBLE_DEVICES\"]=\"1\""
   ]
  },
  {
   "cell_type": "code",
   "execution_count": 808,
   "metadata": {},
   "outputs": [
    {
     "name": "stdout",
     "output_type": "stream",
     "text": [
      "(1943, 468, 115) (1943,)\n",
      "(456, 468, 115) (456,)\n",
      "(452, 468, 115) (452,)\n"
     ]
    }
   ],
   "source": [
    "p0 = glob.glob(\"/home/maghoi/pMHC_data/features12/*0p*\")\n",
    "p1 = glob.glob(\"/home/maghoi/pMHC_data/features12/*1p*\")\n",
    "p2 = glob.glob(\"/home/maghoi/pMHC_data/features12/*2p*\")\n",
    "p3 = glob.glob(\"/home/maghoi/pMHC_data/features12/*3p*\")\n",
    "p4 = glob.glob(\"/home/maghoi/pMHC_data/features12/*4p*\")\n",
    "\n",
    "train = p0 + p1 + p2 + p3\n",
    "valid = p4\n",
    "test = p4\n",
    "\n",
    "len(train), len(valid), len(test), len(p0), len(p1), len(p2), len(p3), len(p4)\n",
    "\n",
    "# Generate train, valid, test sets\n",
    "Xt,yt, Xt_val, yt_val, Xt_test, yt_test = data_generator(train, valid, test)\n",
    "X0, y0, X0_val, y0_val, X0_test, y0_test = Xt.copy(), yt.copy(), Xt_val.copy(), yt_val.copy(), Xt_test.copy(), yt_test.copy()\n",
    "\n",
    "#Upsample\n",
    "Xp, yp = upsample(Xt, yt)\n",
    "Xp_val, yp_val = upsample(Xt_val, yt_val)\n",
    "Xp_test, yp_test = upsample(Xt_test, yt_test)\n",
    "\n",
    "def to_torch_data(x,np_type,tch_type):\n",
    "    return torch.from_numpy(x.astype(np_type)).to(tch_type)\n",
    "\n",
    "X, X_val, X_test = map(lambda x: to_torch_data(x,float,torch.float32),(Xp, Xp_val, Xp_test))\n",
    "y, y_val, y_test = map(lambda x: to_torch_data(x,int,torch.int64),(yp, yp_val, yp_test))\n",
    "\n",
    "train_ds = tdatautils.TensorDataset(X, y)\n",
    "valid_ds = tdatautils.TensorDataset(X_val, y_val)\n",
    "test_ds = tdatautils.TensorDataset(X_test, y_test)\n",
    "\n",
    "X0, X0_val, X0_test = map(lambda x: to_torch_data(x,float,torch.float32),(X0, X0_val, X0_test))\n",
    "y0, y0_val, y0_test = map(lambda x: to_torch_data(x,int,torch.int64),(y0, y0_val, y0_test))\n",
    "\n",
    "train_ds0 = tdatautils.TensorDataset(X0, y0)\n",
    "valid_ds0 = tdatautils.TensorDataset(X0_val, y0_val)\n",
    "test_ds0 = tdatautils.TensorDataset(X0_test, y0_test)"
   ]
  },
  {
   "cell_type": "code",
   "execution_count": 55,
   "metadata": {
    "ExecuteTime": {
     "end_time": "2019-04-15T12:41:29.771331Z",
     "start_time": "2019-04-15T12:41:16.837Z"
    },
    "code_folding": [
     16
    ],
    "init_cell": true,
    "scrolled": true
   },
   "outputs": [
    {
     "name": "stdout",
     "output_type": "stream",
     "text": [
      "Loading m1, m2\n",
      "torch.Size([32, 896]) torch.Size([32, 896])\n"
     ]
    }
   ],
   "source": [
    "batch_size = 32\n",
    "drop_prob = 0.2\n",
    "ps = False\n",
    "my_data_bunch = DataBunch.create(train_ds, valid_ds0, test_ds0, bs=batch_size)\n",
    "\n",
    "#print(net)  \n",
    "#print( 'trainable params: {}'.format(count_model_params(net)) )\n",
    "\n",
    "net = Model().cuda()\n",
    "\n",
    "sz = (896)/2\n",
    "sz0 = int(896/2)\n",
    "m1, m2 = generate_weights(32, sz, new = 0)\n",
    "\n",
    "learn = Learner(my_data_bunch,\n",
    "                     net,\n",
    "                     opt_func=torch.optim.Adam,\n",
    "                     loss_func=criterion, metrics=[accuracy],\n",
    "                     callback_fns=[partial(EarlyStoppingCallback, min_delta=0.01, patience=3)],\n",
    "                     wd = 0.01)"
   ]
  },
  {
   "cell_type": "code",
   "execution_count": 85,
   "metadata": {},
   "outputs": [],
   "source": [
    "#Simple FF\n",
    "\n",
    "#Hyperparams for CNN\n",
    "\n",
    "criterion = nn.CrossEntropyLoss()\n",
    "in_channel = 468\n",
    "n_hid = 1\n",
    "epochs = 0\n",
    "f = int(8)\n",
    "\n",
    "batch_size = 32\n",
    "\n",
    "class Model(nn.Module):\n",
    "    def __init__(self):\n",
    "        super(Model, self).__init__()\n",
    "        \n",
    "        #Batchnorm0\n",
    "        #self.a_norm_0 = nn.BatchNorm1d(in_channel)\n",
    "        \n",
    "        #Prediction module\n",
    "        self.a_Linear = nn.Linear(in_features = in_channel, out_features = 2)\n",
    "        #self.a_BatchNorm = nn.BatchNorm1d(f*n_hid)\n",
    "        #self.a_ReLU = nn.ReLU(f*n_hid)\n",
    "        #self.a_Linear2 = nn.Linear(in_features = f*n_hid, out_features = 2)\n",
    "\n",
    "    def forward(self, x):\n",
    "        global ps\n",
    "        bs0 = x.shape[0]\n",
    "        x = x[:, :, 1:2]\n",
    "    \n",
    "        if ps: print(\"\\nInput\", x.shape)\n",
    "        x = x.transpose(1, 2)\n",
    "        if ps: print(\"Transpose\", x.shape)\n",
    "                    \n",
    "        #mhcp = x[:, :, 0:192]\n",
    "        #tcr = x[:, :, 192:]\n",
    "        #pep = x[:, :, 181:192]\n",
    "        #tcr = torch.cat((tcr, pep), dim = 2)\n",
    "        #if ps: print(\"Shapes\", mhcp.shape, tcr.shape)\n",
    "\n",
    "            \n",
    "        #mhcp = self.m_norm_1(self.m_conv_1(mhcp0))\n",
    "        #tcr = self.t_norm_1(self.t_conv_1(tcr0))\n",
    "        \n",
    "       # allparts = mhcp * tcr\n",
    "        #if ps: print(\"Allparts\", allparts.shape)\n",
    "        #if ps: print(\"Allparts avgpool\", allparts.shape)\n",
    "        \n",
    "        #Prediction module\n",
    "        allparts = self.a_Linear(x)\n",
    "        if ps: print(\"Linear\", allparts.shape)\n",
    "        \n",
    "        allparts = allparts.view(bs0, 2)\n",
    "        if ps: print(\"Last\", allparts.shape)\n",
    "        ps = False\n",
    "        \n",
    "        x = allparts\n",
    "        return x\n",
    "\n",
    "batch_size = 32\n",
    "#drop_prob = 0.2\n",
    "ps = True\n",
    "my_data_bunch = DataBunch.create(train_ds, valid_ds0, test_ds0, bs=batch_size)\n",
    "\n",
    "#print(net)  \n",
    "#print( 'trainable params: {}'.format(count_model_params(net)) )\n",
    "\n",
    "net = Model().cuda()\n",
    "\n",
    "#learn = Learner(my_data_bunch,\n",
    "#                     net,\n",
    "#                     opt_func=torch.optim.Adam,\n",
    "#                     loss_func=criterion, metrics=[accuracy],\n",
    "#                     callback_fns=[partial(EarlyStoppingCallback, min_delta=0.01, patience=3)],\n",
    "#                     wd = 0.01)\n",
    "\n",
    "learn = Learner(my_data_bunch,\n",
    "                     net,\n",
    "                     opt_func=torch.optim.Adam,\n",
    "                     loss_func=criterion, metrics=[accuracy],\n",
    "                     callback_fns=[partial(EarlyStoppingCallback, min_delta=0.01, patience=3)],\n",
    "                     wd = 0.01)"
   ]
  },
  {
   "cell_type": "code",
   "execution_count": 76,
   "metadata": {},
   "outputs": [
    {
     "name": "stdout",
     "output_type": "stream",
     "text": [
      "LR Finder is complete, type {learner_name}.recorder.plot() to see the graph.\n"
     ]
    },
    {
     "data": {
      "image/png": "[encoded data removed]",
      "text/plain": [
       "<Figure size 432x288 with 1 Axes>"
      ]
     },
     "metadata": {
      "needs_background": "light"
     },
     "output_type": "display_data"
    }
   ],
   "source": [
    "learn.lr_find()\n",
    "learn.recorder.plot()"
   ]
  },
  {
   "cell_type": "code",
   "execution_count": 86,
   "metadata": {},
   "outputs": [
    {
     "data": {
      "text/html": [
       "\n",
       "    <div>\n",
       "        <style>\n",
       "            /* Turns off some styling */\n",
       "            progress {\n",
       "                /* gets rid of default border in Firefox and Opera. */\n",
       "                border: none;\n",
       "                /* Needs to be in here for Safari polyfill so background images work as expected. */\n",
       "                background-size: auto;\n",
       "            }\n",
       "            .progress-bar-interrupted, .progress-bar-interrupted::-webkit-progress-bar {\n",
       "                background: #F44336;\n",
       "            }\n",
       "        </style>\n",
       "      <progress value='4' class='' max='10', style='width:300px; height:20px; vertical-align: middle;'></progress>\n",
       "      40.00% [4/10 00:12<00:18]\n",
       "    </div>\n",
       "    \n",
       "<table style='width:300px; margin-bottom:10px'>\n",
       "  <tr>\n",
       "    <th>epoch</th>\n",
       "    <th>train_loss</th>\n",
       "    <th>valid_loss</th>\n",
       "    <th>accuracy</th>\n",
       "  </tr>\n",
       "  <tr>\n",
       "    <th>1</th>\n",
       "    <th>0.884806</th>\n",
       "    <th>0.624836</th>\n",
       "    <th>0.727273</th>\n",
       "  </tr>\n",
       "  <tr>\n",
       "    <th>2</th>\n",
       "    <th>0.740356</th>\n",
       "    <th>0.785468</th>\n",
       "    <th>0.676768</th>\n",
       "  </tr>\n",
       "  <tr>\n",
       "    <th>3</th>\n",
       "    <th>0.697499</th>\n",
       "    <th>2.061788</th>\n",
       "    <th>0.353535</th>\n",
       "  </tr>\n",
       "  <tr>\n",
       "    <th>4</th>\n",
       "    <th>0.709483</th>\n",
       "    <th>2.135913</th>\n",
       "    <th>0.398990</th>\n",
       "  </tr>\n",
       "</table>\n",
       "\n",
       "\n",
       "    <div>\n",
       "        <style>\n",
       "            /* Turns off some styling */\n",
       "            progress {\n",
       "                /* gets rid of default border in Firefox and Opera. */\n",
       "                border: none;\n",
       "                /* Needs to be in here for Safari polyfill so background images work as expected. */\n",
       "                background-size: auto;\n",
       "            }\n",
       "            .progress-bar-interrupted, .progress-bar-interrupted::-webkit-progress-bar {\n",
       "                background: #F44336;\n",
       "            }\n",
       "        </style>\n",
       "      <progress value='7' class='' max='7', style='width:300px; height:20px; vertical-align: middle;'></progress>\n",
       "      100.00% [7/7 00:01<00:00]\n",
       "    </div>\n",
       "    "
      ],
      "text/plain": [
       "<IPython.core.display.HTML object>"
      ]
     },
     "metadata": {},
     "output_type": "display_data"
    },
    {
     "name": "stdout",
     "output_type": "stream",
     "text": [
      "\n",
      "Input torch.Size([32, 468, 1])\n",
      "Transpose torch.Size([32, 1, 468])\n",
      "Linear torch.Size([32, 1, 2])\n",
      "Last torch.Size([32, 2])\n",
      "Epoch 5: early stopping\n"
     ]
    }
   ],
   "source": [
    "LR = [5e-03, 5e-02]*20\n",
    "learn.fit_one_cycle(10, max_lr=slice(None, 5e-03, 5e-02), wd = 0.01)"
   ]
  },
  {
   "cell_type": "code",
   "execution_count": null,
   "metadata": {},
   "outputs": [],
   "source": []
  },
  {
   "cell_type": "code",
   "execution_count": 77,
   "metadata": {},
   "outputs": [
    {
     "name": "stdout",
     "output_type": "stream",
     "text": [
      "Correct: 0.747\n",
      "AUC 0.742\n",
      "MCC 0.364\n",
      "F1 0.479\n",
      "AVP 0.356\n",
      "\n",
      "Tn, fp, fn, tp\n",
      "[[125  40]\n",
      " [ 10  23]]\n",
      "TPR: 0.697\n",
      "TNR: 0.758\n",
      "Prec: 0.365\n",
      "Rec: 0.697\n"
     ]
    },
    {
     "data": {
      "image/png": "[encoded data removed]",
      "text/plain": [
       "<Figure size 432x288 with 1 Axes>"
      ]
     },
     "metadata": {
      "needs_background": "light"
     },
     "output_type": "display_data"
    },
    {
     "data": {
      "image/png": "[encoded data removed]",
      "text/plain": [
       "<Figure size 432x288 with 1 Axes>"
      ]
     },
     "metadata": {
      "needs_background": "light"
     },
     "output_type": "display_data"
    }
   ],
   "source": [
    "stat_graphs()"
   ]
  },
  {
   "cell_type": "code",
   "execution_count": null,
   "metadata": {},
   "outputs": [],
   "source": []
  },
  {
   "cell_type": "code",
   "execution_count": 68,
   "metadata": {},
   "outputs": [
    {
     "name": "stdout",
     "output_type": "stream",
     "text": [
      "Cycle: 1 / 80 Epochs: 1 LR: 0.01 -> 0.1\n"
     ]
    },
    {
     "data": {
      "text/html": [
       "Total time: 00:03 <p><table style='width:300px; margin-bottom:10px'>\n",
       "  <tr>\n",
       "    <th>epoch</th>\n",
       "    <th>train_loss</th>\n",
       "    <th>valid_loss</th>\n",
       "    <th>accuracy</th>\n",
       "  </tr>\n",
       "  <tr>\n",
       "    <th>1</th>\n",
       "    <th>0.903367</th>\n",
       "    <th>1.103174</th>\n",
       "    <th>0.520202</th>\n",
       "  </tr>\n",
       "</table>\n"
      ],
      "text/plain": [
       "<IPython.core.display.HTML object>"
      ]
     },
     "metadata": {},
     "output_type": "display_data"
    },
    {
     "name": "stdout",
     "output_type": "stream",
     "text": [
      "\n",
      "Input torch.Size([32, 468, 1])\n",
      "Transpose torch.Size([32, 1, 468])\n",
      "Linear torch.Size([32, 1, 2])\n",
      "Last torch.Size([32, 2])\n",
      "Cycle: 2 / 80 Epochs: 1 LR: 0.01 -> 0.1\n"
     ]
    },
    {
     "data": {
      "text/html": [
       "Total time: 00:02 <p><table style='width:300px; margin-bottom:10px'>\n",
       "  <tr>\n",
       "    <th>epoch</th>\n",
       "    <th>train_loss</th>\n",
       "    <th>valid_loss</th>\n",
       "    <th>accuracy</th>\n",
       "  </tr>\n",
       "  <tr>\n",
       "    <th>1</th>\n",
       "    <th>0.660808</th>\n",
       "    <th>1.275151</th>\n",
       "    <th>0.439394</th>\n",
       "  </tr>\n",
       "</table>\n"
      ],
      "text/plain": [
       "<IPython.core.display.HTML object>"
      ]
     },
     "metadata": {},
     "output_type": "display_data"
    },
    {
     "name": "stdout",
     "output_type": "stream",
     "text": [
      "Cycle: 3 / 80 Epochs: 1 LR: 0.001 -> 0.05\n"
     ]
    },
    {
     "data": {
      "text/html": [
       "Total time: 00:03 <p><table style='width:300px; margin-bottom:10px'>\n",
       "  <tr>\n",
       "    <th>epoch</th>\n",
       "    <th>train_loss</th>\n",
       "    <th>valid_loss</th>\n",
       "    <th>accuracy</th>\n",
       "  </tr>\n",
       "  <tr>\n",
       "    <th>1</th>\n",
       "    <th>0.484116</th>\n",
       "    <th>0.839472</th>\n",
       "    <th>0.585859</th>\n",
       "  </tr>\n",
       "</table>\n"
      ],
      "text/plain": [
       "<IPython.core.display.HTML object>"
      ]
     },
     "metadata": {},
     "output_type": "display_data"
    },
    {
     "name": "stdout",
     "output_type": "stream",
     "text": [
      "Cycle: 4 / 80 Epochs: 1 LR: 0.001 -> 0.05\n"
     ]
    },
    {
     "data": {
      "text/html": [
       "Total time: 00:03 <p><table style='width:300px; margin-bottom:10px'>\n",
       "  <tr>\n",
       "    <th>epoch</th>\n",
       "    <th>train_loss</th>\n",
       "    <th>valid_loss</th>\n",
       "    <th>accuracy</th>\n",
       "  </tr>\n",
       "  <tr>\n",
       "    <th>1</th>\n",
       "    <th>0.465844</th>\n",
       "    <th>0.989092</th>\n",
       "    <th>0.444444</th>\n",
       "  </tr>\n",
       "</table>\n"
      ],
      "text/plain": [
       "<IPython.core.display.HTML object>"
      ]
     },
     "metadata": {},
     "output_type": "display_data"
    },
    {
     "name": "stdout",
     "output_type": "stream",
     "text": [
      "Cycle: 5 / 80 Epochs: 1 LR: 0.01 -> 0.1\n"
     ]
    },
    {
     "data": {
      "text/html": [
       "Total time: 00:03 <p><table style='width:300px; margin-bottom:10px'>\n",
       "  <tr>\n",
       "    <th>epoch</th>\n",
       "    <th>train_loss</th>\n",
       "    <th>valid_loss</th>\n",
       "    <th>accuracy</th>\n",
       "  </tr>\n",
       "  <tr>\n",
       "    <th>1</th>\n",
       "    <th>0.581584</th>\n",
       "    <th>0.505967</th>\n",
       "    <th>0.803030</th>\n",
       "  </tr>\n",
       "</table>\n"
      ],
      "text/plain": [
       "<IPython.core.display.HTML object>"
      ]
     },
     "metadata": {},
     "output_type": "display_data"
    },
    {
     "name": "stdout",
     "output_type": "stream",
     "text": [
      "Cycle: 6 / 80 Epochs: 1 LR: 0.01 -> 0.1\n"
     ]
    },
    {
     "data": {
      "text/html": [
       "Total time: 00:03 <p><table style='width:300px; margin-bottom:10px'>\n",
       "  <tr>\n",
       "    <th>epoch</th>\n",
       "    <th>train_loss</th>\n",
       "    <th>valid_loss</th>\n",
       "    <th>accuracy</th>\n",
       "  </tr>\n",
       "  <tr>\n",
       "    <th>1</th>\n",
       "    <th>1.163464</th>\n",
       "    <th>1.381439</th>\n",
       "    <th>0.464646</th>\n",
       "  </tr>\n",
       "</table>\n"
      ],
      "text/plain": [
       "<IPython.core.display.HTML object>"
      ]
     },
     "metadata": {},
     "output_type": "display_data"
    },
    {
     "name": "stdout",
     "output_type": "stream",
     "text": [
      "Cycle: 7 / 80 Epochs: 1 LR: 0.001 -> 0.05\n"
     ]
    },
    {
     "data": {
      "text/html": [
       "Total time: 00:03 <p><table style='width:300px; margin-bottom:10px'>\n",
       "  <tr>\n",
       "    <th>epoch</th>\n",
       "    <th>train_loss</th>\n",
       "    <th>valid_loss</th>\n",
       "    <th>accuracy</th>\n",
       "  </tr>\n",
       "  <tr>\n",
       "    <th>1</th>\n",
       "    <th>0.552957</th>\n",
       "    <th>0.719480</th>\n",
       "    <th>0.595960</th>\n",
       "  </tr>\n",
       "</table>\n"
      ],
      "text/plain": [
       "<IPython.core.display.HTML object>"
      ]
     },
     "metadata": {},
     "output_type": "display_data"
    },
    {
     "name": "stdout",
     "output_type": "stream",
     "text": [
      "Cycle: 8 / 80 Epochs: 1 LR: 0.001 -> 0.05\n"
     ]
    },
    {
     "data": {
      "text/html": [
       "Total time: 00:02 <p><table style='width:300px; margin-bottom:10px'>\n",
       "  <tr>\n",
       "    <th>epoch</th>\n",
       "    <th>train_loss</th>\n",
       "    <th>valid_loss</th>\n",
       "    <th>accuracy</th>\n",
       "  </tr>\n",
       "  <tr>\n",
       "    <th>1</th>\n",
       "    <th>0.438701</th>\n",
       "    <th>0.968021</th>\n",
       "    <th>0.545455</th>\n",
       "  </tr>\n",
       "</table>\n"
      ],
      "text/plain": [
       "<IPython.core.display.HTML object>"
      ]
     },
     "metadata": {},
     "output_type": "display_data"
    },
    {
     "name": "stdout",
     "output_type": "stream",
     "text": [
      "Cycle: 9 / 80 Epochs: 1 LR: 0.01 -> 0.1\n"
     ]
    },
    {
     "data": {
      "text/html": [
       "Total time: 00:03 <p><table style='width:300px; margin-bottom:10px'>\n",
       "  <tr>\n",
       "    <th>epoch</th>\n",
       "    <th>train_loss</th>\n",
       "    <th>valid_loss</th>\n",
       "    <th>accuracy</th>\n",
       "  </tr>\n",
       "  <tr>\n",
       "    <th>1</th>\n",
       "    <th>0.480461</th>\n",
       "    <th>0.881570</th>\n",
       "    <th>0.530303</th>\n",
       "  </tr>\n",
       "</table>\n"
      ],
      "text/plain": [
       "<IPython.core.display.HTML object>"
      ]
     },
     "metadata": {},
     "output_type": "display_data"
    },
    {
     "name": "stdout",
     "output_type": "stream",
     "text": [
      "Cycle: 10 / 80 Epochs: 1 LR: 0.01 -> 0.1\n"
     ]
    },
    {
     "data": {
      "text/html": [
       "\n",
       "    <div>\n",
       "        <style>\n",
       "            /* Turns off some styling */\n",
       "            progress {\n",
       "                /* gets rid of default border in Firefox and Opera. */\n",
       "                border: none;\n",
       "                /* Needs to be in here for Safari polyfill so background images work as expected. */\n",
       "                background-size: auto;\n",
       "            }\n",
       "            .progress-bar-interrupted, .progress-bar-interrupted::-webkit-progress-bar {\n",
       "                background: #F44336;\n",
       "            }\n",
       "        </style>\n",
       "      <progress value='0' class='' max='1', style='width:300px; height:20px; vertical-align: middle;'></progress>\n",
       "      0.00% [0/1 00:00<00:00]\n",
       "    </div>\n",
       "    \n",
       "<table style='width:300px; margin-bottom:10px'>\n",
       "  <tr>\n",
       "    <th>epoch</th>\n",
       "    <th>train_loss</th>\n",
       "    <th>valid_loss</th>\n",
       "    <th>accuracy</th>\n",
       "  </tr>\n",
       "</table>\n",
       "\n",
       "\n",
       "    <div>\n",
       "        <style>\n",
       "            /* Turns off some styling */\n",
       "            progress {\n",
       "                /* gets rid of default border in Firefox and Opera. */\n",
       "                border: none;\n",
       "                /* Needs to be in here for Safari polyfill so background images work as expected. */\n",
       "                background-size: auto;\n",
       "            }\n",
       "            .progress-bar-interrupted, .progress-bar-interrupted::-webkit-progress-bar {\n",
       "                background: #F44336;\n",
       "            }\n",
       "        </style>\n",
       "      <progress value='0' class='progress-bar-interrupted' max='22', style='width:300px; height:20px; vertical-align: middle;'></progress>\n",
       "      Interrupted\n",
       "    </div>\n",
       "    "
      ],
      "text/plain": [
       "<IPython.core.display.HTML object>"
      ]
     },
     "metadata": {},
     "output_type": "display_data"
    },
    {
     "ename": "KeyboardInterrupt",
     "evalue": "",
     "output_type": "error",
     "traceback": [
      "\u001b[0;31m---------------------------------------------------------------------------\u001b[0m",
      "\u001b[0;31mKeyboardInterrupt\u001b[0m                         Traceback (most recent call last)",
      "\u001b[0;32m<ipython-input-68-25fa1246fabd>\u001b[0m in \u001b[0;36m<module>\u001b[0;34m\u001b[0m\n\u001b[1;32m      6\u001b[0m \u001b[0mLR\u001b[0m \u001b[0;34m=\u001b[0m \u001b[0;34m[\u001b[0m\u001b[0;36m1e-02\u001b[0m\u001b[0;34m,\u001b[0m \u001b[0;36m1e-01\u001b[0m\u001b[0;34m,\u001b[0m \u001b[0;36m1e-02\u001b[0m\u001b[0;34m,\u001b[0m \u001b[0;36m1e-01\u001b[0m\u001b[0;34m,\u001b[0m \u001b[0;36m1e-03\u001b[0m\u001b[0;34m,\u001b[0m \u001b[0;36m5e-02\u001b[0m\u001b[0;34m,\u001b[0m \u001b[0;36m1e-03\u001b[0m\u001b[0;34m,\u001b[0m \u001b[0;36m5e-02\u001b[0m\u001b[0;34m]\u001b[0m\u001b[0;34m*\u001b[0m\u001b[0;36m20\u001b[0m\u001b[0;34m\u001b[0m\u001b[0;34m\u001b[0m\u001b[0m\n\u001b[1;32m      7\u001b[0m \u001b[0;34m\u001b[0m\u001b[0m\n\u001b[0;32m----> 8\u001b[0;31m \u001b[0mfilepath\u001b[0m \u001b[0;34m=\u001b[0m \u001b[0msimple_train\u001b[0m\u001b[0;34m(\u001b[0m\u001b[0mcycles\u001b[0m \u001b[0;34m=\u001b[0m \u001b[0mSETS\u001b[0m\u001b[0;34m*\u001b[0m\u001b[0;36m4\u001b[0m\u001b[0;34m,\u001b[0m \u001b[0mepochs\u001b[0m \u001b[0;34m=\u001b[0m \u001b[0mSETS\u001b[0m\u001b[0;34m*\u001b[0m\u001b[0;36m4\u001b[0m\u001b[0;34m*\u001b[0m\u001b[0;34m[\u001b[0m\u001b[0;36m1\u001b[0m\u001b[0;34m]\u001b[0m\u001b[0;34m,\u001b[0m \u001b[0mLR\u001b[0m \u001b[0;34m=\u001b[0m \u001b[0mLR\u001b[0m\u001b[0;34m,\u001b[0m \u001b[0mval_part\u001b[0m \u001b[0;34m=\u001b[0m \u001b[0mi\u001b[0m\u001b[0;34m,\u001b[0m \u001b[0mskip\u001b[0m \u001b[0;34m=\u001b[0m \u001b[0;32mFalse\u001b[0m\u001b[0;34m)\u001b[0m\u001b[0;34m\u001b[0m\u001b[0;34m\u001b[0m\u001b[0m\n\u001b[0m\u001b[1;32m      9\u001b[0m \u001b[0;31m#filepath = early_stop2(learn = learn, cycles = cycles, val_part = i)\u001b[0m\u001b[0;34m\u001b[0m\u001b[0;34m\u001b[0m\u001b[0;34m\u001b[0m\u001b[0m\n",
      "\u001b[0;32m<ipython-input-24-dd7fd922fc02>\u001b[0m in \u001b[0;36msimple_train\u001b[0;34m(cycles, LR, epochs, val_part, test_part, skip)\u001b[0m\n\u001b[1;32m     13\u001b[0m         \u001b[0mprint\u001b[0m\u001b[0;34m(\u001b[0m\u001b[0;34m\"Cycle:\"\u001b[0m\u001b[0;34m,\u001b[0m \u001b[0mi\u001b[0m\u001b[0;34m+\u001b[0m\u001b[0;36m1\u001b[0m\u001b[0;34m,\u001b[0m \u001b[0;34m\"/\"\u001b[0m\u001b[0;34m,\u001b[0m \u001b[0mcycles\u001b[0m\u001b[0;34m,\u001b[0m \u001b[0;34m\"Epochs:\"\u001b[0m\u001b[0;34m,\u001b[0m \u001b[0mepochs\u001b[0m\u001b[0;34m[\u001b[0m\u001b[0mi\u001b[0m\u001b[0;34m]\u001b[0m\u001b[0;34m,\u001b[0m \u001b[0;34m\"LR:\"\u001b[0m\u001b[0;34m,\u001b[0m \u001b[0mLR\u001b[0m\u001b[0;34m[\u001b[0m\u001b[0mi\u001b[0m\u001b[0;34m*\u001b[0m\u001b[0;36m2\u001b[0m\u001b[0;34m]\u001b[0m\u001b[0;34m,\u001b[0m \u001b[0;34m\"->\"\u001b[0m\u001b[0;34m,\u001b[0m \u001b[0mLR\u001b[0m\u001b[0;34m[\u001b[0m\u001b[0;34m(\u001b[0m\u001b[0mi\u001b[0m\u001b[0;34m*\u001b[0m\u001b[0;36m2\u001b[0m\u001b[0;34m)\u001b[0m\u001b[0;34m+\u001b[0m\u001b[0;36m1\u001b[0m\u001b[0;34m]\u001b[0m\u001b[0;34m)\u001b[0m\u001b[0;34m\u001b[0m\u001b[0;34m\u001b[0m\u001b[0m\n\u001b[1;32m     14\u001b[0m         \u001b[0mnow\u001b[0m \u001b[0;34m=\u001b[0m \u001b[0mtime\u001b[0m\u001b[0;34m.\u001b[0m\u001b[0mtime\u001b[0m\u001b[0;34m(\u001b[0m\u001b[0;34m)\u001b[0m\u001b[0;34m\u001b[0m\u001b[0;34m\u001b[0m\u001b[0m\n\u001b[0;32m---> 15\u001b[0;31m         \u001b[0mlearn\u001b[0m\u001b[0;34m.\u001b[0m\u001b[0mfit_one_cycle\u001b[0m\u001b[0;34m(\u001b[0m\u001b[0mepochs\u001b[0m\u001b[0;34m[\u001b[0m\u001b[0mi\u001b[0m\u001b[0;34m]\u001b[0m\u001b[0;34m,\u001b[0m \u001b[0mmax_lr\u001b[0m\u001b[0;34m=\u001b[0m\u001b[0mslice\u001b[0m\u001b[0;34m(\u001b[0m\u001b[0;32mNone\u001b[0m\u001b[0;34m,\u001b[0m \u001b[0mLR\u001b[0m\u001b[0;34m[\u001b[0m\u001b[0mi\u001b[0m\u001b[0;34m*\u001b[0m\u001b[0;36m2\u001b[0m\u001b[0;34m]\u001b[0m\u001b[0;34m,\u001b[0m \u001b[0mLR\u001b[0m\u001b[0;34m[\u001b[0m\u001b[0;34m(\u001b[0m\u001b[0mi\u001b[0m\u001b[0;34m*\u001b[0m\u001b[0;36m2\u001b[0m\u001b[0;34m)\u001b[0m\u001b[0;34m+\u001b[0m\u001b[0;36m1\u001b[0m\u001b[0;34m]\u001b[0m\u001b[0;34m)\u001b[0m\u001b[0;34m,\u001b[0m \u001b[0mwd\u001b[0m \u001b[0;34m=\u001b[0m \u001b[0;36m0.01\u001b[0m\u001b[0;34m)\u001b[0m\u001b[0;34m\u001b[0m\u001b[0;34m\u001b[0m\u001b[0m\n\u001b[0m\u001b[1;32m     16\u001b[0m \u001b[0;34m\u001b[0m\u001b[0m\n\u001b[1;32m     17\u001b[0m     \u001b[0;31m#Save model to filepath\u001b[0m\u001b[0;34m\u001b[0m\u001b[0;34m\u001b[0m\u001b[0;34m\u001b[0m\u001b[0m\n",
      "\u001b[0;32m~/.conda/envs/fastai_py37/lib/python3.7/site-packages/fastai/train.py\u001b[0m in \u001b[0;36mfit_one_cycle\u001b[0;34m(learn, cyc_len, max_lr, moms, div_factor, pct_start, wd, callbacks, **kwargs)\u001b[0m\n\u001b[1;32m     20\u001b[0m     callbacks.append(OneCycleScheduler(learn, max_lr, moms=moms, div_factor=div_factor,\n\u001b[1;32m     21\u001b[0m                                         pct_start=pct_start, **kwargs))\n\u001b[0;32m---> 22\u001b[0;31m     \u001b[0mlearn\u001b[0m\u001b[0;34m.\u001b[0m\u001b[0mfit\u001b[0m\u001b[0;34m(\u001b[0m\u001b[0mcyc_len\u001b[0m\u001b[0;34m,\u001b[0m \u001b[0mmax_lr\u001b[0m\u001b[0;34m,\u001b[0m \u001b[0mwd\u001b[0m\u001b[0;34m=\u001b[0m\u001b[0mwd\u001b[0m\u001b[0;34m,\u001b[0m \u001b[0mcallbacks\u001b[0m\u001b[0;34m=\u001b[0m\u001b[0mcallbacks\u001b[0m\u001b[0;34m)\u001b[0m\u001b[0;34m\u001b[0m\u001b[0;34m\u001b[0m\u001b[0m\n\u001b[0m\u001b[1;32m     23\u001b[0m \u001b[0;34m\u001b[0m\u001b[0m\n\u001b[1;32m     24\u001b[0m \u001b[0;32mdef\u001b[0m \u001b[0mlr_find\u001b[0m\u001b[0;34m(\u001b[0m\u001b[0mlearn\u001b[0m\u001b[0;34m:\u001b[0m\u001b[0mLearner\u001b[0m\u001b[0;34m,\u001b[0m \u001b[0mstart_lr\u001b[0m\u001b[0;34m:\u001b[0m\u001b[0mFloats\u001b[0m\u001b[0;34m=\u001b[0m\u001b[0;36m1e-7\u001b[0m\u001b[0;34m,\u001b[0m \u001b[0mend_lr\u001b[0m\u001b[0;34m:\u001b[0m\u001b[0mFloats\u001b[0m\u001b[0;34m=\u001b[0m\u001b[0;36m10\u001b[0m\u001b[0;34m,\u001b[0m \u001b[0mnum_it\u001b[0m\u001b[0;34m:\u001b[0m\u001b[0mint\u001b[0m\u001b[0;34m=\u001b[0m\u001b[0;36m100\u001b[0m\u001b[0;34m,\u001b[0m \u001b[0mstop_div\u001b[0m\u001b[0;34m:\u001b[0m\u001b[0mbool\u001b[0m\u001b[0;34m=\u001b[0m\u001b[0;32mTrue\u001b[0m\u001b[0;34m,\u001b[0m \u001b[0;34m**\u001b[0m\u001b[0mkwargs\u001b[0m\u001b[0;34m:\u001b[0m\u001b[0mAny\u001b[0m\u001b[0;34m)\u001b[0m\u001b[0;34m:\u001b[0m\u001b[0;34m\u001b[0m\u001b[0;34m\u001b[0m\u001b[0m\n",
      "\u001b[0;32m~/.conda/envs/fastai_py37/lib/python3.7/site-packages/fastai/basic_train.py\u001b[0m in \u001b[0;36mfit\u001b[0;34m(self, epochs, lr, wd, callbacks)\u001b[0m\n\u001b[1;32m    176\u001b[0m         \u001b[0mcallbacks\u001b[0m \u001b[0;34m=\u001b[0m \u001b[0;34m[\u001b[0m\u001b[0mcb\u001b[0m\u001b[0;34m(\u001b[0m\u001b[0mself\u001b[0m\u001b[0;34m)\u001b[0m \u001b[0;32mfor\u001b[0m \u001b[0mcb\u001b[0m \u001b[0;32min\u001b[0m \u001b[0mself\u001b[0m\u001b[0;34m.\u001b[0m\u001b[0mcallback_fns\u001b[0m\u001b[0;34m]\u001b[0m \u001b[0;34m+\u001b[0m \u001b[0mlistify\u001b[0m\u001b[0;34m(\u001b[0m\u001b[0mcallbacks\u001b[0m\u001b[0;34m)\u001b[0m\u001b[0;34m\u001b[0m\u001b[0;34m\u001b[0m\u001b[0m\n\u001b[1;32m    177\u001b[0m         fit(epochs, self.model, self.loss_func, opt=self.opt, data=self.data, metrics=self.metrics,\n\u001b[0;32m--> 178\u001b[0;31m             callbacks=self.callbacks+callbacks)\n\u001b[0m\u001b[1;32m    179\u001b[0m \u001b[0;34m\u001b[0m\u001b[0m\n\u001b[1;32m    180\u001b[0m     \u001b[0;32mdef\u001b[0m \u001b[0mcreate_opt\u001b[0m\u001b[0;34m(\u001b[0m\u001b[0mself\u001b[0m\u001b[0;34m,\u001b[0m \u001b[0mlr\u001b[0m\u001b[0;34m:\u001b[0m\u001b[0mFloats\u001b[0m\u001b[0;34m,\u001b[0m \u001b[0mwd\u001b[0m\u001b[0;34m:\u001b[0m\u001b[0mFloats\u001b[0m\u001b[0;34m=\u001b[0m\u001b[0;36m0.\u001b[0m\u001b[0;34m)\u001b[0m\u001b[0;34m->\u001b[0m\u001b[0;32mNone\u001b[0m\u001b[0;34m:\u001b[0m\u001b[0;34m\u001b[0m\u001b[0;34m\u001b[0m\u001b[0m\n",
      "\u001b[0;32m~/.conda/envs/fastai_py37/lib/python3.7/site-packages/fastai/utils/mem.py\u001b[0m in \u001b[0;36mwrapper\u001b[0;34m(*args, **kwargs)\u001b[0m\n\u001b[1;32m     83\u001b[0m \u001b[0;34m\u001b[0m\u001b[0m\n\u001b[1;32m     84\u001b[0m         \u001b[0;32mtry\u001b[0m\u001b[0;34m:\u001b[0m\u001b[0;34m\u001b[0m\u001b[0;34m\u001b[0m\u001b[0m\n\u001b[0;32m---> 85\u001b[0;31m             \u001b[0;32mreturn\u001b[0m \u001b[0mfunc\u001b[0m\u001b[0;34m(\u001b[0m\u001b[0;34m*\u001b[0m\u001b[0margs\u001b[0m\u001b[0;34m,\u001b[0m \u001b[0;34m**\u001b[0m\u001b[0mkwargs\u001b[0m\u001b[0;34m)\u001b[0m\u001b[0;34m\u001b[0m\u001b[0;34m\u001b[0m\u001b[0m\n\u001b[0m\u001b[1;32m     86\u001b[0m         \u001b[0;32mexcept\u001b[0m \u001b[0mException\u001b[0m \u001b[0;32mas\u001b[0m \u001b[0me\u001b[0m\u001b[0;34m:\u001b[0m\u001b[0;34m\u001b[0m\u001b[0;34m\u001b[0m\u001b[0m\n\u001b[1;32m     87\u001b[0m             \u001b[0;32mif\u001b[0m \u001b[0;34m\"CUDA out of memory\"\u001b[0m \u001b[0;32min\u001b[0m \u001b[0mstr\u001b[0m\u001b[0;34m(\u001b[0m\u001b[0me\u001b[0m\u001b[0;34m)\u001b[0m \u001b[0;32mor\u001b[0m \u001b[0mtb_clear_frames\u001b[0m\u001b[0;34m==\u001b[0m\u001b[0;34m\"1\"\u001b[0m\u001b[0;34m:\u001b[0m\u001b[0;34m\u001b[0m\u001b[0;34m\u001b[0m\u001b[0m\n",
      "\u001b[0;32m~/.conda/envs/fastai_py37/lib/python3.7/site-packages/fastai/basic_train.py\u001b[0m in \u001b[0;36mfit\u001b[0;34m(epochs, model, loss_func, opt, data, callbacks, metrics)\u001b[0m\n\u001b[1;32m     86\u001b[0m             \u001b[0mcb_handler\u001b[0m\u001b[0;34m.\u001b[0m\u001b[0mset_dl\u001b[0m\u001b[0;34m(\u001b[0m\u001b[0mdata\u001b[0m\u001b[0;34m.\u001b[0m\u001b[0mtrain_dl\u001b[0m\u001b[0;34m)\u001b[0m\u001b[0;34m\u001b[0m\u001b[0;34m\u001b[0m\u001b[0m\n\u001b[1;32m     87\u001b[0m             \u001b[0mcb_handler\u001b[0m\u001b[0;34m.\u001b[0m\u001b[0mon_epoch_begin\u001b[0m\u001b[0;34m(\u001b[0m\u001b[0;34m)\u001b[0m\u001b[0;34m\u001b[0m\u001b[0;34m\u001b[0m\u001b[0m\n\u001b[0;32m---> 88\u001b[0;31m             \u001b[0;32mfor\u001b[0m \u001b[0mxb\u001b[0m\u001b[0;34m,\u001b[0m\u001b[0myb\u001b[0m \u001b[0;32min\u001b[0m \u001b[0mprogress_bar\u001b[0m\u001b[0;34m(\u001b[0m\u001b[0mdata\u001b[0m\u001b[0;34m.\u001b[0m\u001b[0mtrain_dl\u001b[0m\u001b[0;34m,\u001b[0m \u001b[0mparent\u001b[0m\u001b[0;34m=\u001b[0m\u001b[0mpbar\u001b[0m\u001b[0;34m)\u001b[0m\u001b[0;34m:\u001b[0m\u001b[0;34m\u001b[0m\u001b[0;34m\u001b[0m\u001b[0m\n\u001b[0m\u001b[1;32m     89\u001b[0m                 \u001b[0mxb\u001b[0m\u001b[0;34m,\u001b[0m \u001b[0myb\u001b[0m \u001b[0;34m=\u001b[0m \u001b[0mcb_handler\u001b[0m\u001b[0;34m.\u001b[0m\u001b[0mon_batch_begin\u001b[0m\u001b[0;34m(\u001b[0m\u001b[0mxb\u001b[0m\u001b[0;34m,\u001b[0m \u001b[0myb\u001b[0m\u001b[0;34m)\u001b[0m\u001b[0;34m\u001b[0m\u001b[0;34m\u001b[0m\u001b[0m\n\u001b[1;32m     90\u001b[0m                 \u001b[0mloss\u001b[0m \u001b[0;34m=\u001b[0m \u001b[0mloss_batch\u001b[0m\u001b[0;34m(\u001b[0m\u001b[0mmodel\u001b[0m\u001b[0;34m,\u001b[0m \u001b[0mxb\u001b[0m\u001b[0;34m,\u001b[0m \u001b[0myb\u001b[0m\u001b[0;34m,\u001b[0m \u001b[0mloss_func\u001b[0m\u001b[0;34m,\u001b[0m \u001b[0mopt\u001b[0m\u001b[0;34m,\u001b[0m \u001b[0mcb_handler\u001b[0m\u001b[0;34m)\u001b[0m\u001b[0;34m\u001b[0m\u001b[0;34m\u001b[0m\u001b[0m\n",
      "\u001b[0;32m~/.conda/envs/fastai_py37/lib/python3.7/site-packages/fastprogress/fastprogress.py\u001b[0m in \u001b[0;36m__iter__\u001b[0;34m(self)\u001b[0m\n\u001b[1;32m     63\u001b[0m         \u001b[0mself\u001b[0m\u001b[0;34m.\u001b[0m\u001b[0mupdate\u001b[0m\u001b[0;34m(\u001b[0m\u001b[0;36m0\u001b[0m\u001b[0;34m)\u001b[0m\u001b[0;34m\u001b[0m\u001b[0;34m\u001b[0m\u001b[0m\n\u001b[1;32m     64\u001b[0m         \u001b[0;32mtry\u001b[0m\u001b[0;34m:\u001b[0m\u001b[0;34m\u001b[0m\u001b[0;34m\u001b[0m\u001b[0m\n\u001b[0;32m---> 65\u001b[0;31m             \u001b[0;32mfor\u001b[0m \u001b[0mi\u001b[0m\u001b[0;34m,\u001b[0m\u001b[0mo\u001b[0m \u001b[0;32min\u001b[0m \u001b[0menumerate\u001b[0m\u001b[0;34m(\u001b[0m\u001b[0mself\u001b[0m\u001b[0;34m.\u001b[0m\u001b[0m_gen\u001b[0m\u001b[0;34m)\u001b[0m\u001b[0;34m:\u001b[0m\u001b[0;34m\u001b[0m\u001b[0;34m\u001b[0m\u001b[0m\n\u001b[0m\u001b[1;32m     66\u001b[0m                 \u001b[0;32myield\u001b[0m \u001b[0mo\u001b[0m\u001b[0;34m\u001b[0m\u001b[0;34m\u001b[0m\u001b[0m\n\u001b[1;32m     67\u001b[0m                 \u001b[0;32mif\u001b[0m \u001b[0mself\u001b[0m\u001b[0;34m.\u001b[0m\u001b[0mauto_update\u001b[0m\u001b[0;34m:\u001b[0m \u001b[0mself\u001b[0m\u001b[0;34m.\u001b[0m\u001b[0mupdate\u001b[0m\u001b[0;34m(\u001b[0m\u001b[0mi\u001b[0m\u001b[0;34m+\u001b[0m\u001b[0;36m1\u001b[0m\u001b[0;34m)\u001b[0m\u001b[0;34m\u001b[0m\u001b[0;34m\u001b[0m\u001b[0m\n",
      "\u001b[0;32m~/.conda/envs/fastai_py37/lib/python3.7/site-packages/fastai/basic_data.py\u001b[0m in \u001b[0;36m__iter__\u001b[0;34m(self)\u001b[0m\n\u001b[1;32m     69\u001b[0m     \u001b[0;32mdef\u001b[0m \u001b[0m__iter__\u001b[0m\u001b[0;34m(\u001b[0m\u001b[0mself\u001b[0m\u001b[0;34m)\u001b[0m\u001b[0;34m:\u001b[0m\u001b[0;34m\u001b[0m\u001b[0;34m\u001b[0m\u001b[0m\n\u001b[1;32m     70\u001b[0m         \u001b[0;34m\"Process and returns items from `DataLoader`.\"\u001b[0m\u001b[0;34m\u001b[0m\u001b[0;34m\u001b[0m\u001b[0m\n\u001b[0;32m---> 71\u001b[0;31m         \u001b[0;32mfor\u001b[0m \u001b[0mb\u001b[0m \u001b[0;32min\u001b[0m \u001b[0mself\u001b[0m\u001b[0;34m.\u001b[0m\u001b[0mdl\u001b[0m\u001b[0;34m:\u001b[0m \u001b[0;32myield\u001b[0m \u001b[0mself\u001b[0m\u001b[0;34m.\u001b[0m\u001b[0mproc_batch\u001b[0m\u001b[0;34m(\u001b[0m\u001b[0mb\u001b[0m\u001b[0;34m)\u001b[0m\u001b[0;34m\u001b[0m\u001b[0;34m\u001b[0m\u001b[0m\n\u001b[0m\u001b[1;32m     72\u001b[0m \u001b[0;34m\u001b[0m\u001b[0m\n\u001b[1;32m     73\u001b[0m     \u001b[0;34m@\u001b[0m\u001b[0mclassmethod\u001b[0m\u001b[0;34m\u001b[0m\u001b[0;34m\u001b[0m\u001b[0m\n",
      "\u001b[0;32m~/.conda/envs/fastai_py37/lib/python3.7/site-packages/torch/utils/data/dataloader.py\u001b[0m in \u001b[0;36m__next__\u001b[0;34m(self)\u001b[0m\n\u001b[1;32m    624\u001b[0m \u001b[0;34m\u001b[0m\u001b[0m\n\u001b[1;32m    625\u001b[0m         \u001b[0;32mif\u001b[0m \u001b[0mself\u001b[0m\u001b[0;34m.\u001b[0m\u001b[0mbatches_outstanding\u001b[0m \u001b[0;34m==\u001b[0m \u001b[0;36m0\u001b[0m\u001b[0;34m:\u001b[0m\u001b[0;34m\u001b[0m\u001b[0;34m\u001b[0m\u001b[0m\n\u001b[0;32m--> 626\u001b[0;31m             \u001b[0mself\u001b[0m\u001b[0;34m.\u001b[0m\u001b[0m_shutdown_workers\u001b[0m\u001b[0;34m(\u001b[0m\u001b[0;34m)\u001b[0m\u001b[0;34m\u001b[0m\u001b[0;34m\u001b[0m\u001b[0m\n\u001b[0m\u001b[1;32m    627\u001b[0m             \u001b[0;32mraise\u001b[0m \u001b[0mStopIteration\u001b[0m\u001b[0;34m\u001b[0m\u001b[0;34m\u001b[0m\u001b[0m\n\u001b[1;32m    628\u001b[0m \u001b[0;34m\u001b[0m\u001b[0m\n",
      "\u001b[0;32m~/.conda/envs/fastai_py37/lib/python3.7/site-packages/torch/utils/data/dataloader.py\u001b[0m in \u001b[0;36m_shutdown_workers\u001b[0;34m(self)\u001b[0m\n\u001b[1;32m    711\u001b[0m                 \u001b[0mq\u001b[0m\u001b[0;34m.\u001b[0m\u001b[0mclose\u001b[0m\u001b[0;34m(\u001b[0m\u001b[0;34m)\u001b[0m\u001b[0;34m\u001b[0m\u001b[0;34m\u001b[0m\u001b[0m\n\u001b[1;32m    712\u001b[0m             \u001b[0;32mfor\u001b[0m \u001b[0mw\u001b[0m \u001b[0;32min\u001b[0m \u001b[0mself\u001b[0m\u001b[0;34m.\u001b[0m\u001b[0mworkers\u001b[0m\u001b[0;34m:\u001b[0m\u001b[0;34m\u001b[0m\u001b[0;34m\u001b[0m\u001b[0m\n\u001b[0;32m--> 713\u001b[0;31m                 \u001b[0mw\u001b[0m\u001b[0;34m.\u001b[0m\u001b[0mjoin\u001b[0m\u001b[0;34m(\u001b[0m\u001b[0;34m)\u001b[0m\u001b[0;34m\u001b[0m\u001b[0;34m\u001b[0m\u001b[0m\n\u001b[0m\u001b[1;32m    714\u001b[0m \u001b[0;34m\u001b[0m\u001b[0m\n\u001b[1;32m    715\u001b[0m     \u001b[0;32mdef\u001b[0m \u001b[0m__del__\u001b[0m\u001b[0;34m(\u001b[0m\u001b[0mself\u001b[0m\u001b[0;34m)\u001b[0m\u001b[0;34m:\u001b[0m\u001b[0;34m\u001b[0m\u001b[0;34m\u001b[0m\u001b[0m\n",
      "\u001b[0;32m~/.conda/envs/fastai_py37/lib/python3.7/multiprocessing/process.py\u001b[0m in \u001b[0;36mjoin\u001b[0;34m(self, timeout)\u001b[0m\n\u001b[1;32m    138\u001b[0m         \u001b[0;32massert\u001b[0m \u001b[0mself\u001b[0m\u001b[0;34m.\u001b[0m\u001b[0m_parent_pid\u001b[0m \u001b[0;34m==\u001b[0m \u001b[0mos\u001b[0m\u001b[0;34m.\u001b[0m\u001b[0mgetpid\u001b[0m\u001b[0;34m(\u001b[0m\u001b[0;34m)\u001b[0m\u001b[0;34m,\u001b[0m \u001b[0;34m'can only join a child process'\u001b[0m\u001b[0;34m\u001b[0m\u001b[0;34m\u001b[0m\u001b[0m\n\u001b[1;32m    139\u001b[0m         \u001b[0;32massert\u001b[0m \u001b[0mself\u001b[0m\u001b[0;34m.\u001b[0m\u001b[0m_popen\u001b[0m \u001b[0;32mis\u001b[0m \u001b[0;32mnot\u001b[0m \u001b[0;32mNone\u001b[0m\u001b[0;34m,\u001b[0m \u001b[0;34m'can only join a started process'\u001b[0m\u001b[0;34m\u001b[0m\u001b[0;34m\u001b[0m\u001b[0m\n\u001b[0;32m--> 140\u001b[0;31m         \u001b[0mres\u001b[0m \u001b[0;34m=\u001b[0m \u001b[0mself\u001b[0m\u001b[0;34m.\u001b[0m\u001b[0m_popen\u001b[0m\u001b[0;34m.\u001b[0m\u001b[0mwait\u001b[0m\u001b[0;34m(\u001b[0m\u001b[0mtimeout\u001b[0m\u001b[0;34m)\u001b[0m\u001b[0;34m\u001b[0m\u001b[0;34m\u001b[0m\u001b[0m\n\u001b[0m\u001b[1;32m    141\u001b[0m         \u001b[0;32mif\u001b[0m \u001b[0mres\u001b[0m \u001b[0;32mis\u001b[0m \u001b[0;32mnot\u001b[0m \u001b[0;32mNone\u001b[0m\u001b[0;34m:\u001b[0m\u001b[0;34m\u001b[0m\u001b[0;34m\u001b[0m\u001b[0m\n\u001b[1;32m    142\u001b[0m             \u001b[0m_children\u001b[0m\u001b[0;34m.\u001b[0m\u001b[0mdiscard\u001b[0m\u001b[0;34m(\u001b[0m\u001b[0mself\u001b[0m\u001b[0;34m)\u001b[0m\u001b[0;34m\u001b[0m\u001b[0;34m\u001b[0m\u001b[0m\n",
      "\u001b[0;32m~/.conda/envs/fastai_py37/lib/python3.7/multiprocessing/popen_fork.py\u001b[0m in \u001b[0;36mwait\u001b[0;34m(self, timeout)\u001b[0m\n\u001b[1;32m     46\u001b[0m                     \u001b[0;32mreturn\u001b[0m \u001b[0;32mNone\u001b[0m\u001b[0;34m\u001b[0m\u001b[0;34m\u001b[0m\u001b[0m\n\u001b[1;32m     47\u001b[0m             \u001b[0;31m# This shouldn't block if wait() returned successfully.\u001b[0m\u001b[0;34m\u001b[0m\u001b[0;34m\u001b[0m\u001b[0;34m\u001b[0m\u001b[0m\n\u001b[0;32m---> 48\u001b[0;31m             \u001b[0;32mreturn\u001b[0m \u001b[0mself\u001b[0m\u001b[0;34m.\u001b[0m\u001b[0mpoll\u001b[0m\u001b[0;34m(\u001b[0m\u001b[0mos\u001b[0m\u001b[0;34m.\u001b[0m\u001b[0mWNOHANG\u001b[0m \u001b[0;32mif\u001b[0m \u001b[0mtimeout\u001b[0m \u001b[0;34m==\u001b[0m \u001b[0;36m0.0\u001b[0m \u001b[0;32melse\u001b[0m \u001b[0;36m0\u001b[0m\u001b[0;34m)\u001b[0m\u001b[0;34m\u001b[0m\u001b[0;34m\u001b[0m\u001b[0m\n\u001b[0m\u001b[1;32m     49\u001b[0m         \u001b[0;32mreturn\u001b[0m \u001b[0mself\u001b[0m\u001b[0;34m.\u001b[0m\u001b[0mreturncode\u001b[0m\u001b[0;34m\u001b[0m\u001b[0;34m\u001b[0m\u001b[0m\n\u001b[1;32m     50\u001b[0m \u001b[0;34m\u001b[0m\u001b[0m\n",
      "\u001b[0;32m~/.conda/envs/fastai_py37/lib/python3.7/multiprocessing/popen_fork.py\u001b[0m in \u001b[0;36mpoll\u001b[0;34m(self, flag)\u001b[0m\n\u001b[1;32m     26\u001b[0m         \u001b[0;32mif\u001b[0m \u001b[0mself\u001b[0m\u001b[0;34m.\u001b[0m\u001b[0mreturncode\u001b[0m \u001b[0;32mis\u001b[0m \u001b[0;32mNone\u001b[0m\u001b[0;34m:\u001b[0m\u001b[0;34m\u001b[0m\u001b[0;34m\u001b[0m\u001b[0m\n\u001b[1;32m     27\u001b[0m             \u001b[0;32mtry\u001b[0m\u001b[0;34m:\u001b[0m\u001b[0;34m\u001b[0m\u001b[0;34m\u001b[0m\u001b[0m\n\u001b[0;32m---> 28\u001b[0;31m                 \u001b[0mpid\u001b[0m\u001b[0;34m,\u001b[0m \u001b[0msts\u001b[0m \u001b[0;34m=\u001b[0m \u001b[0mos\u001b[0m\u001b[0;34m.\u001b[0m\u001b[0mwaitpid\u001b[0m\u001b[0;34m(\u001b[0m\u001b[0mself\u001b[0m\u001b[0;34m.\u001b[0m\u001b[0mpid\u001b[0m\u001b[0;34m,\u001b[0m \u001b[0mflag\u001b[0m\u001b[0;34m)\u001b[0m\u001b[0;34m\u001b[0m\u001b[0;34m\u001b[0m\u001b[0m\n\u001b[0m\u001b[1;32m     29\u001b[0m             \u001b[0;32mexcept\u001b[0m \u001b[0mOSError\u001b[0m \u001b[0;32mas\u001b[0m \u001b[0me\u001b[0m\u001b[0;34m:\u001b[0m\u001b[0;34m\u001b[0m\u001b[0;34m\u001b[0m\u001b[0m\n\u001b[1;32m     30\u001b[0m                 \u001b[0;31m# Child process not yet created. See #1731717\u001b[0m\u001b[0;34m\u001b[0m\u001b[0;34m\u001b[0m\u001b[0;34m\u001b[0m\u001b[0m\n",
      "\u001b[0;31mKeyboardInterrupt\u001b[0m: "
     ]
    }
   ],
   "source": [
    "## simple learn\n",
    "SETS = 20\n",
    "i = 20\n",
    "cycles = SETS*1\n",
    "epochs = 2*[1]+(SETS-2)*[1]\n",
    "LR = [1e-02, 1e-01, 1e-02, 1e-01, 1e-03, 5e-02, 1e-03, 5e-02]*20\n",
    "\n",
    "#filepath = simple_train(cycles = SETS*4, epochs = SETS*4*[1], LR = LR, val_part = i, skip = False)\n",
    "filepath = early_stop2(learn = learn, cycles = cycles, val_part = i)"
   ]
  },
  {
   "cell_type": "code",
   "execution_count": 819,
   "metadata": {},
   "outputs": [
    {
     "name": "stdout",
     "output_type": "stream",
     "text": [
      "Correct: 0.814\n",
      "AUC 0.695\n",
      "MCC 0.151\n",
      "F1 0.222\n",
      "AVP 0.31\n",
      "\n",
      "Tn, fp, fn, tp\n",
      "[[208  12]\n",
      " [ 37   7]]\n",
      "TPR: 0.159\n",
      "TNR: 0.945\n",
      "Prec: 0.368\n",
      "Rec: 0.159\n"
     ]
    },
    {
     "data": {
      "image/png": "[encoded data removed]",
      "text/plain": [
       "<Figure size 432x288 with 1 Axes>"
      ]
     },
     "metadata": {
      "needs_background": "light"
     },
     "output_type": "display_data"
    },
    {
     "data": {
      "image/png": "[encoded data removed]",
      "text/plain": [
       "<Figure size 432x288 with 1 Axes>"
      ]
     },
     "metadata": {
      "needs_background": "light"
     },
     "output_type": "display_data"
    }
   ],
   "source": [
    "stat_graphs()"
   ]
  },
  {
   "cell_type": "code",
   "execution_count": 78,
   "metadata": {},
   "outputs": [],
   "source": [
    "def early_stop2(learn=learn, cycles=16, LR=16*[1e-02, 1e-01, 5e-03, 5e-02], epochs=16*[1],\n",
    "                         val_part = int(4), test_part = int(),\n",
    "                         comment=\"\", outdir = \"/scratch/maghoi/data/models/\"):\n",
    "    train_part=[0, 1, 2, 3, 4]\n",
    "    LR = pd.Series(LR)\n",
    "    now = time.time()\n",
    "    stat_df = pd.DataFrame(columns=[\"Correct\", \"AUC\", \"MCC\", \"AVP\", \"TPR\", \"TNR\", \"Confusion\"])\n",
    "    \n",
    "    #Create outidr\n",
    "    os.makedirs(outdir, exist_ok = True)\n",
    "    os.makedirs(outdir+\"/saved/\", exist_ok = True)\n",
    "    \n",
    "    for i in range(0, cycles):  \n",
    "\n",
    "        print(\"Cycle:\", i+1, \"/\", cycles, \"LR:\", LR[i*2], \"->\", LR[(i*2)+1])\n",
    "        \n",
    "        #Train model\n",
    "        now = time.time()\n",
    "        learn.fit_one_cycle(epochs[i], max_lr=slice(None, LR[i*2], LR[(i*2)+1]), wd = 0.01)\n",
    "        if i == 0:\n",
    "            print(\"Saving initial model ...\", outdir+\"temp_model\")\n",
    "            learn.save(outdir + \"temp_model\")\n",
    "        \n",
    "        if i >= 1:\n",
    "            #Check performance before vs after\n",
    "            stats = pd.DataFrame(record_stats()).transpose()\n",
    "            stats.columns = stat_df.columns\n",
    "            stat_df = stat_df.append(stats)\n",
    "            \n",
    "            #df = pd.read_csv(\"/home/maghoi/main/data/Stats1.csv\")\n",
    "            before = float(stat_df.iloc[len(stat_df)-(2)][\"MCC\"])\n",
    "            after = float(stat_df.iloc[len(stat_df)-(1)][\"MCC\"])\n",
    "            print(\"Before;\", before, \"vs\", \"After:\", after)\n",
    "\n",
    "            #Load model before if performance worse\n",
    "            if after > before:\n",
    "                print(\"MCC higher, saving ...\")\n",
    "                learn.save(outdir + \"temp_model\")\n",
    "    #Save model\n",
    "    train_part.remove(val_part)\n",
    "    if test_part == int():\n",
    "        test_part = \"0\"\n",
    "    else:\n",
    "        train_part.remove(test_part)\n",
    "\n",
    "    test_str = str(test_part)\n",
    "    val_str = str(val_part)\n",
    "    train_str = \"\".join(map(str, train_part))\n",
    "\n",
    "    filepath = outdir+\"saved/\" + \"T\" + test_str + \"V\" + val_str + \"_\" + train_str\n",
    "    learn.load(outdir+\"temp_model\")\n",
    "    learn.save(filepath)\n",
    "    \n",
    "    filelist = glob.glob(outdir + \"temp_model*\")\n",
    "    if filelist:\n",
    "        print(\"Removing\", filelist[0])\n",
    "        os.remove(filelist[0])\n",
    "    else:\n",
    "        print(\"No file found????\")\n",
    "    \n",
    "    return(filepath)\n",
    "    print(\"Done\")\n",
    "\n"
   ]
  },
  {
   "cell_type": "code",
   "execution_count": 823,
   "metadata": {},
   "outputs": [
    {
     "data": {
      "text/plain": [
       "Index(['Correct', 'AUC', 'MCC', 'F1', 'AVP', 'TPR', 'TNR', 'Prec', 'Rec',\n",
       "       'Confusion matrix'],\n",
       "      dtype='object')"
      ]
     },
     "execution_count": 823,
     "metadata": {},
     "output_type": "execute_result"
    }
   ],
   "source": [
    "pd.read_csv(\"/home/maghoi/Magnus_pMHC/CSV/CSV_new.csv\").columns[4:14]"
   ]
  },
  {
   "cell_type": "code",
   "execution_count": 816,
   "metadata": {},
   "outputs": [
    {
     "data": {
      "text/plain": [
       "['/scratch/maghoi/data/models/temp_model']"
      ]
     },
     "execution_count": 816,
     "metadata": {},
     "output_type": "execute_result"
    }
   ],
   "source": [
    "glob.glob(\"/scratch/maghoi/data/models/temp_model*\")"
   ]
  },
  {
   "cell_type": "code",
   "execution_count": 813,
   "metadata": {},
   "outputs": [
    {
     "name": "stdout",
     "output_type": "stream",
     "text": [
      "Correct: 0.754\n",
      "AUC 0.681\n",
      "MCC 0.089\n",
      "F1 0.235\n",
      "AVP 0.255\n",
      "\n",
      "Tn, fp, fn, tp\n",
      "[[189  31]\n",
      " [ 34  10]]\n",
      "TPR: 0.227\n",
      "TNR: 0.859\n",
      "Prec: 0.244\n",
      "Rec: 0.227\n"
     ]
    },
    {
     "data": {
      "image/png": "[encoded data removed]",
      "text/plain": [
       "<Figure size 432x288 with 1 Axes>"
      ]
     },
     "metadata": {
      "needs_background": "light"
     },
     "output_type": "display_data"
    },
    {
     "data": {
      "image/png": "[encoded data removed]",
      "text/plain": [
       "<Figure size 432x288 with 1 Axes>"
      ]
     },
     "metadata": {
      "needs_background": "light"
     },
     "output_type": "display_data"
    }
   ],
   "source": [
    "stat_graphs()"
   ]
  },
  {
   "cell_type": "code",
   "execution_count": 787,
   "metadata": {},
   "outputs": [
    {
     "name": "stdout",
     "output_type": "stream",
     "text": [
      "Correct: 0.86\n",
      "AUC 0.853\n",
      "MCC 0.5\n",
      "F1 0.584\n",
      "AVP 0.553\n",
      "\n",
      "Tn, fp, fn, tp\n",
      "[[256  24]\n",
      " [ 23  33]]\n",
      "TPR: 0.589\n",
      "TNR: 0.914\n",
      "Prec: 0.579\n",
      "Rec: 0.589\n"
     ]
    },
    {
     "data": {
      "image/png": "[encoded data removed]",
      "text/plain": [
       "<Figure size 432x288 with 1 Axes>"
      ]
     },
     "metadata": {
      "needs_background": "light"
     },
     "output_type": "display_data"
    },
    {
     "data": {
      "image/png": "[encoded data removed]",
      "text/plain": [
       "<Figure size 432x288 with 1 Axes>"
      ]
     },
     "metadata": {
      "needs_background": "light"
     },
     "output_type": "display_data"
    }
   ],
   "source": [
    "stat_graphs()"
   ]
  },
  {
   "cell_type": "code",
   "execution_count": 284,
   "metadata": {},
   "outputs": [
    {
     "name": "stdout",
     "output_type": "stream",
     "text": [
      "['4sblosum', 0, 4, [0, 1, 2, 3], 0.662, 0.712, 0.126, 0.33, 0.455, 0.703, array([[116,  49],\n",
      "       [ 18,  15]]), 2002, '2019-05-22 14:36:54.246746']\n"
     ]
    }
   ],
   "source": [
    "df = pd.DataFrame(index = range(0,7))\n",
    "\n",
    "#simple learn on BLOSUM\n",
    "for i in range(0, 5):\n",
    "    #Load\n",
    "    X, y, X_val, y_val, X_test, y_test = data_generator_blosum(X_mhc, X_pep, X_tcr_a, X_tcr_b, target_y,\n",
    "                                                               names, PAR_VEC, norm = True, val_part = i)\n",
    "\n",
    "    X0, y0, X0_val, y0_val, X0_test, y0_test = X.copy(), y.copy(), X_val.copy(), y_val.copy(), X_test.copy(), y_test.copy()\n",
    "\n",
    "    #Upsample\n",
    "    Xp, yp = upsample(X, y)\n",
    "    Xp_val, yp_val = upsample(X_val, y_val)\n",
    "    Xp_test, yp_test = upsample(X_test, y_test)\n",
    "    \n",
    "    batch_size = 32\n",
    "    drop_prob = 0.2\n",
    "    ps = False\n",
    "    my_data_bunch = DataBunch.create(train_ds, valid_ds0, test_ds0, bs=batch_size)\n",
    "    net = Model().cuda()\n",
    "\n",
    "    sz = (896)\n",
    "    sz0 = int(896)\n",
    "    m1, m2 = generate_weights(32, sz, new = 0)\n",
    "\n",
    "    learn = Learner(my_data_bunch,\n",
    "                         net,\n",
    "                         opt_func=torch.optim.Adam,\n",
    "                         loss_func=criterion, metrics=[accuracy],\n",
    "                         callback_fns=[partial(EarlyStoppingCallback, min_delta=0.01, patience=3)],\n",
    "                         wd = 0.01)\n",
    "\n",
    "    SETS = 20\n",
    "    cycles = SETS*20\n",
    "    epochs = 2*[1]+(SETS-2)*[1]\n",
    "    #LR = [1e-02, 1e-01, 1e-02, 1e-01, 1e-02, 1e-01]+(SETS-3)*[5e-03, 5e-02]\n",
    "    LR = [1e-02, 1e-01, 1e-02, 1e-01, 5e-03, 5e-02, 1e-03, 1e-02]+(SETS-4)*[5e-03, 5e-02]\n",
    "\n",
    "    LR = [1e-02, 1e-01, 1e-02, 1e-01, 5e-03, 5e-02, 1e-03, 1e-02]+(SETS-4)*[5e-03, 5e-02]\n",
    "\n",
    "    #filepath = simple_train(cycles = SETS*4, epochs = SETS*4*[1], LR = [1e-02, 1e-01, 1e-02, 1e-01, 1e-03, 5e-02, 1e-03, 5e-02], val_part = i, skip = False)\n",
    "    filepath = simple_train(learn = learn, cycles = cycles, epochs = epochs, LR = LR, val_part = i, skip = False)\n",
    "    \n",
    "    stats_to_csv(val_part = i, comment = \"blosum\")"
   ]
  },
  {
   "cell_type": "code",
   "execution_count": 16,
   "metadata": {},
   "outputs": [],
   "source": [
    "def set_baseline_model(n = 3, epochs = 3, LR = [1e-02, 1e-01], learn = learn):\n",
    "    stat_df = pd.DataFrame(columns = [\"Filename\", \"Correct\", \"AUC\", \"MCC\", \"AVP\", \"TPR\", \"TNR\", \"Confusion matrix\"])\n",
    "\n",
    "    for i in range(0, n):\n",
    "        print(\"Run\", i+1, \"/\", n)\n",
    "        net = Model().cuda()\n",
    "        learn = Learner(my_data_bunch,\n",
    "                             net,\n",
    "                             opt_func=torch.optim.Adam,\n",
    "                             loss_func=criterion, metrics=[accuracy],\n",
    "                             callback_fns=[partial(EarlyStoppingCallback, min_delta=0.01, patience=3)],\n",
    "                             wd = 0.01)\n",
    "        learn.fit_one_cycle(epochs, max_lr = slice(None, LR[0], LR[1]), wd = 0.01)\n",
    "        \n",
    "        path = \"/home/maghoi/main/data/models/\"\n",
    "        filename = \"Baseline\" + str(i)\n",
    "        learn.save(path+filename)\n",
    "\n",
    "        row = [filename] + list(record_stats(ds = DatasetType.Valid, learn = learn))\n",
    "        stat_df.loc[len(stat_df)] = row\n",
    "\n",
    "    #Load best model:\n",
    "    filename = \"/home/maghoi/main/data/models/\" + str(stat_df.loc[stat_df[\"MCC\"].idxmax(), \"Filename\"])\n",
    "    print(stat_df)\n",
    "    print(\"Returning model\", path+filename+\".pth\")\n",
    "    return stat_df, filename+\".pth\""
   ]
  },
  {
   "cell_type": "code",
   "execution_count": 17,
   "metadata": {},
   "outputs": [
    {
     "name": "stdout",
     "output_type": "stream",
     "text": [
      "T0V1_234.pth  T1V0_234.pth  T2V0_134.pth  T3V0_124.pth\tT4V0_123.pth\n",
      "T0V2_134.pth  T1V2_034.pth  T2V1_034.pth  T3V1_024.pth\tT4V1_023.pth\n",
      "T0V3_124.pth  T1V3_024.pth  T2V3_014.pth  T3V2_014.pth\tT4V2_013.pth\n",
      "T0V4_123.pth  T1V4_023.pth  T2V4_013.pth  T3V4_012.pth\tT4V3_012.pth\n"
     ]
    }
   ],
   "source": [
    "!mkdir -p /scratch/maghoi/data/3may\n",
    "!ls /scratch/maghoi/data/3may"
   ]
  },
  {
   "cell_type": "code",
   "execution_count": null,
   "metadata": {},
   "outputs": [
    {
     "name": "stdout",
     "output_type": "stream",
     "text": [
      "Run 1 / 5 ... Val 0 Train 1234\n",
      "(1864, 468, 56) (1864,)\n",
      "Cycle: 1 / 4 Epochs: 1 LR: 0.01 -> 0.1\n"
     ]
    },
    {
     "data": {
      "text/html": [
       "\n",
       "    <div>\n",
       "        <style>\n",
       "            /* Turns off some styling */\n",
       "            progress {\n",
       "                /* gets rid of default border in Firefox and Opera. */\n",
       "                border: none;\n",
       "                /* Needs to be in here for Safari polyfill so background images work as expected. */\n",
       "                background-size: auto;\n",
       "            }\n",
       "            .progress-bar-interrupted, .progress-bar-interrupted::-webkit-progress-bar {\n",
       "                background: #F44336;\n",
       "            }\n",
       "        </style>\n",
       "      <progress value='0' class='' max='1', style='width:300px; height:20px; vertical-align: middle;'></progress>\n",
       "      0.00% [0/1 00:00<00:00]\n",
       "    </div>\n",
       "    \n",
       "<table style='width:300px; margin-bottom:10px'>\n",
       "  <tr>\n",
       "    <th>epoch</th>\n",
       "    <th>train_loss</th>\n",
       "    <th>valid_loss</th>\n",
       "    <th>accuracy</th>\n",
       "  </tr>\n",
       "</table>\n",
       "\n",
       "\n",
       "    <div>\n",
       "        <style>\n",
       "            /* Turns off some styling */\n",
       "            progress {\n",
       "                /* gets rid of default border in Firefox and Opera. */\n",
       "                border: none;\n",
       "                /* Needs to be in here for Safari polyfill so background images work as expected. */\n",
       "                background-size: auto;\n",
       "            }\n",
       "            .progress-bar-interrupted, .progress-bar-interrupted::-webkit-progress-bar {\n",
       "                background: #F44336;\n",
       "            }\n",
       "        </style>\n",
       "      <progress value='0' class='' max='58', style='width:300px; height:20px; vertical-align: middle;'></progress>\n",
       "      0.00% [0/58 00:00<00:00]\n",
       "    </div>\n",
       "    "
      ],
      "text/plain": [
       "<IPython.core.display.HTML object>"
      ]
     },
     "metadata": {},
     "output_type": "display_data"
    }
   ],
   "source": [
    "#Cross-val function\n",
    "data = [p0, p1, p2, p3, p4]\n",
    "\n",
    "partitions = [0, 1, 2, 3, 4]\n",
    "run = 0\n",
    "\n",
    "for i in partitions:\n",
    "    partitions = [0, 1, 2, 3, 4]\n",
    "    val_part = data[i]\n",
    "    partitions.remove(i)\n",
    "\n",
    "    train_part = []\n",
    "    train_i3 = []\n",
    "    for i3 in partitions:\n",
    "        train_part += data[i3]\n",
    "        train_i3.append(i3)\n",
    "\n",
    "    train_i3 = \"\".join(map(str, train_i3))\n",
    "    run += 1\n",
    "    print(\"Run\", run, \"/ 5 ...\", \"Val\", i, \"Train\", train_i3)\n",
    "\n",
    "    train = train_part\n",
    "    valid = val_part\n",
    "    test = val_part\n",
    "\n",
    "\n",
    "    #Load data\n",
    "    X, y, X_val, y_val, _, _ = data_generator(train, valid, test)\n",
    "    X0, y0, X0_val, y0_val = X.copy(), y.copy(), X_val.copy(), y_val.copy()\n",
    "\n",
    "    #Upsample\n",
    "    X, y = upsample(X, y)\n",
    "\n",
    "    X = to_torch_data(X,float,torch.float32)\n",
    "    y = to_torch_data(y,int,torch.int64)\n",
    "\n",
    "    X0_val = to_torch_data(X0_val,float,torch.float32)\n",
    "    y0_val = to_torch_data(y0_val,int,torch.int64)\n",
    "\n",
    "    #Create Tensor Dataset and FastAI databunch\n",
    "    train_ds = tdatautils.TensorDataset(X, y)\n",
    "    valid_ds0 = tdatautils.TensorDataset(X0_val, y0_val)\n",
    "    dummy_ds = tdatautils.TensorDataset(X0_val[0:2], y0_val[0:2])\n",
    "\n",
    "    #dummy_data_bunch = DataBunch.create(train_ds, dummy_ds, bs=batch_size)\n",
    "    my_data_bunch = DataBunch.create(train_ds, valid_ds0, bs=batch_size)\n",
    "\n",
    "    #Initialize model\n",
    "    net = Model().cuda()\n",
    "    learn = Learner(my_data_bunch, net,\n",
    "                         opt_func=torch.optim.Adam,\n",
    "                         loss_func=criterion, metrics=[accuracy],\n",
    "                         wd = 0.01)\n",
    "\n",
    "    #Run model\n",
    "    filepath = simple_train(cycles = 4, epochs = 4*[1], LR = [1e-02, 1e-01, 1e-02, 1e-01, 1e-03, 5e-02, 1e-03, 5e-02],\n",
    "                                    learn = learn, val_part = i, skip = False)\n",
    "   # filepath = simple_train(cycles = 1, epochs = 1*[1], LR = 1*[1e-02, 1e-01],\n",
    "   #                                 learn = learn, val_part = i, skip = False)\n",
    "\n",
    "    #Stats\n",
    "    learn = Learner(my_data_bunch,\n",
    "                         net,\n",
    "                         opt_func=torch.optim.Adam,\n",
    "                         loss_func=criterion, metrics=[accuracy],\n",
    "                         callback_fns=[partial(EarlyStoppingCallback, min_delta=0.01, patience=3)],\n",
    "                         wd = 0.01)\n",
    "    learn.load(filepath)\n",
    "    #learn.data.valid_dl = torch.utils.data.dataloader.DataLoader(valid_ds0.cuda(), batch_size=32, num_workers=16)\n",
    "    stats_to_csv(comment = \"latest\"+i4, val_part = i, ds = DatasetType.Valid, learn = learn)\n"
   ]
  },
  {
   "cell_type": "code",
   "execution_count": 150,
   "metadata": {},
   "outputs": [
    {
     "name": "stdout",
     "output_type": "stream",
     "text": [
      "Test 0 Val 1 Train 234\n",
      "Test 0 Val 2 Train 134\n",
      "Test 0 Val 3 Train 124\n",
      "Test 0 Val 4 Train 123\n",
      "Test 1 Val 0 Train 234\n",
      "Test 1 Val 2 Train 034\n",
      "Test 1 Val 3 Train 024\n",
      "Test 1 Val 4 Train 023\n",
      "Test 2 Val 0 Train 134\n",
      "Test 2 Val 1 Train 034\n",
      "Test 2 Val 3 Train 014\n",
      "Test 2 Val 4 Train 013\n",
      "Test 3 Val 0 Train 124\n",
      "Test 3 Val 1 Train 024\n",
      "Test 3 Val 2 Train 014\n",
      "Test 3 Val 4 Train 012\n",
      "Test 4 Val 0 Train 123\n",
      "Test 4 Val 1 Train 023\n",
      "Test 4 Val 2 Train 013\n",
      "Test 4 Val 3 Train 012\n"
     ]
    }
   ],
   "source": [
    "#Neated cross-val function\n",
    "t0 = [13,14,15]\n",
    "t1 = [1,2,3]\n",
    "t2 = [4,5,6]\n",
    "t3 = [7,8,9]\n",
    "t4 = [10, 11, 12]\n",
    "\n",
    "data = [t0, t1, t2, t3, t4]\n",
    "\n",
    "partitions = [0, 1, 2, 3, 4]\n",
    "for i in partitions:\n",
    "    partitions = [0, 1, 2, 3, 4]\n",
    "    test_part = data[i]\n",
    "    partitions.remove(i)\n",
    "    \n",
    "    for i2 in partitions:\n",
    "        remaining = partitions.copy()\n",
    "        val_part = data[i2]\n",
    "        remaining.remove(i2)\n",
    "        \n",
    "        train = []\n",
    "        train_i3 = []\n",
    "        for i3 in remaining:\n",
    "            train += data[i3]\n",
    "            train_i3.append(i3)\n",
    "            \n",
    "        train_i3 = \"\".join(map(str, train_i3))\n",
    "        print(\"Test\", i, \"Val\", i2, \"Train\", train_i3)\n",
    "        #print(\"Test\", test_part, \"Val\", val_part, \"Train\", train)"
   ]
  },
  {
   "cell_type": "code",
   "execution_count": 145,
   "metadata": {},
   "outputs": [
    {
     "name": "stdout",
     "output_type": "stream",
     "text": [
      "['NCV', 4, 3, [0, 1, 2], 0.701, 0.58, -0.068, 0.184, 0.114, 0.818, array([[180,  40],\n",
      "       [ 39,   5]]), 5528, '2019-05-03 22:51:44.231062']\n"
     ]
    }
   ],
   "source": [
    "#Nested cross-val function\n",
    "data = [p0, p1, p2, p3, p4]\n",
    "\n",
    "run = 0\n",
    "partitions = [0, 1, 2, 3, 4]\n",
    "for i in partitions:\n",
    "    partitions = [0, 1, 2, 3, 4]\n",
    "    test_part = data[i]\n",
    "    partitions.remove(i)\n",
    "    \n",
    "    for i2 in partitions:\n",
    "        remaining = partitions.copy()\n",
    "        val_part = data[i2]\n",
    "        remaining.remove(i2)\n",
    "        \n",
    "        train = []\n",
    "        train_i3 = []\n",
    "        for i3 in remaining:\n",
    "            train += data[i3]\n",
    "            train_i3.append(i3)\n",
    "            \n",
    "        train_i3 = \"\".join(map(str, train_i3))\n",
    "        run += 1\n",
    "        print(run, \"/ 20\", \" ... Test\", i, \"Val\", i2, \"Train\", train_i3)\n",
    "        #print(\"Test\", test_part, \"Val\", val_part, \"Train\", train)\n",
    "        \n",
    "        train = train\n",
    "        valid = val_part\n",
    "        test = test_part\n",
    "        \n",
    "        #Load data\n",
    "        Xt,yt, Xt_val, yt_val, Xt_test, yt_test = data_generator(train, valid, test)\n",
    "        X0, y0, X0_val, y0_val, X0_test, y0_test = Xt.copy(), yt.copy(), Xt_val.copy(), yt_val.copy(), Xt_test.copy(), yt_test.copy()\n",
    "\n",
    "        #Upsample\n",
    "        Xp, yp = upsample(Xt, yt)\n",
    "        Xp_val, yp_val = upsample(Xt_val, yt_val)\n",
    "        Xp_test, yp_test = upsample(Xt_test, yt_test)\n",
    "\n",
    "        X, X_val, X_test = map(lambda x: to_torch_data(x,float,torch.float32),(Xp, Xp_val, Xp_test))\n",
    "        y, y_val, y_test = map(lambda x: to_torch_data(x,int,torch.int64),(yp, yp_val, yp_test))\n",
    "        X0, X0_val, X0_test = map(lambda x: to_torch_data(x,float,torch.float32),(X0, X0_val, X0_test))\n",
    "        y0, y0_val, y0_test = map(lambda x: to_torch_data(x,int,torch.int64),(y0, y0_val, y0_test))\n",
    "\n",
    "        train_ds = tdatautils.TensorDataset(X, y)\n",
    "        valid_ds0 = tdatautils.TensorDataset(X0_val, y0_val)\n",
    "        test_ds0 = tdatautils.TensorDataset(X0_test, y0_test)\n",
    "        \n",
    "        #Run model\n",
    "        my_data_bunch = DataBunch.create(train_ds, valid_ds0, test_ds0, bs=batch_size)\n",
    "        net = Model().cuda()\n",
    "        learn = Learner(my_data_bunch,\n",
    "                             net,\n",
    "                             opt_func=torch.optim.Adam,\n",
    "                             loss_func=criterion, metrics=[accuracy],\n",
    "                             callback_fns=[partial(EarlyStoppingCallback, min_delta=0.01, patience=3)],\n",
    "                             wd = 0.01)\n",
    "\n",
    "        #Stats\n",
    "        filepath = simple_train(cycles = 4, epochs = 4*[1], LR = [1e-02, 1e-01, 1e-02, 1e-01, 1e-03, 5e-02, 1e-03, 5e-02],\n",
    "                                        learn = learn, comment = \"NCV\",\n",
    "                                       val_part = 3, test_part = 4)\n",
    "\n",
    "        learn.load(filepath)\n",
    "        stats_to_csv(comment = \"22may\"+str(i), val_part = i2, test_part = i, ds = DatasetType.Valid, learn = learn)\n",
    "        stats_to_csv(comment = \"22may\"+str(i), val_part = i2, test_part = i, ds = DatasetType.Test, learn = learn)"
   ]
  },
  {
   "cell_type": "code",
   "execution_count": 25,
   "metadata": {},
   "outputs": [
    {
     "ename": "NameError",
     "evalue": "name 'csvfile' is not defined",
     "output_type": "error",
     "traceback": [
      "\u001b[0;31m---------------------------------------------------------------------------\u001b[0m",
      "\u001b[0;31mNameError\u001b[0m                                 Traceback (most recent call last)",
      "\u001b[0;32m<ipython-input-25-c901e0eb2cd5>\u001b[0m in \u001b[0;36m<module>\u001b[0;34m\u001b[0m\n\u001b[0;32m----> 1\u001b[0;31m \u001b[0mcsvfile\u001b[0m\u001b[0;34m(\u001b[0m\u001b[0;36m40\u001b[0m\u001b[0;34m)\u001b[0m\u001b[0;34m\u001b[0m\u001b[0;34m\u001b[0m\u001b[0m\n\u001b[0m",
      "\u001b[0;31mNameError\u001b[0m: name 'csvfile' is not defined"
     ]
    }
   ],
   "source": [
    "csvfile(40)"
   ]
  },
  {
   "cell_type": "code",
   "execution_count": 84,
   "metadata": {},
   "outputs": [
    {
     "name": "stdout",
     "output_type": "stream",
     "text": [
      "(1537, 468, 56) (1537,)\n",
      "(462, 468, 56) (462,)\n",
      "(452, 468, 56) (452,)\n"
     ]
    }
   ],
   "source": [
    "train = p0 + p1 + p2\n",
    "valid = p3\n",
    "test = p4\n",
    "\n",
    "len(train), len(valid), len(test), len(p0), len(p1), len(p2), len(p3), len(p4)\n",
    "\n",
    "# Generate train, valid, test sets\n",
    "Xt,yt, Xt_val, yt_val, Xt_test, yt_test = data_generator(train, valid, test)\n",
    "X0, y0, X0_val, y0_val, X0_test, y0_test = Xt.copy(), yt.copy(), Xt_val.copy(), yt_val.copy(), Xt_test.copy(), yt_test.copy()\n",
    "\n",
    "#Upsample\n",
    "Xp, yp = upsample(Xt, yt)\n",
    "Xp_val, yp_val = upsample(Xt_val, yt_val)\n",
    "Xp_test, yp_test = upsample(Xt_test, yt_test)\n",
    "\n",
    "X, X_val, X_test = map(lambda x: to_torch_data(x,float,torch.float32),(Xp, Xp_val, Xp_test))\n",
    "y, y_val, y_test = map(lambda x: to_torch_data(x,int,torch.int64),(yp, yp_val, yp_test))\n",
    "\n",
    "#X = map(lambda x: to_torch_data(x,float,torch.float32),Xp)\n",
    "#y = map(lambda x: to_torch_data(x,int,torch.int64),yp)\n",
    "\n",
    "X0, X0_val, X0_test = map(lambda x: to_torch_data(x,float,torch.float32),(X0, X0_val, X0_test))\n",
    "y0, y0_val, y0_test = map(lambda x: to_torch_data(x,int,torch.int64),(y0, y0_val, y0_test))\n",
    "\n",
    "train_ds = tdatautils.TensorDataset(X, y)\n",
    "#valid_ds = tdatautils.TensorDataset(X_val, y_val)\n",
    "#test_ds = tdatautils.TensorDataset(X_test, y_test)\n",
    "\n",
    "train_ds0 = tdatautils.TensorDataset(X0, y0)\n",
    "valid_ds0 = tdatautils.TensorDataset(X0_val, y0_val)\n",
    "test_ds0 = tdatautils.TensorDataset(X0_test, y0_test)\n"
   ]
  },
  {
   "cell_type": "code",
   "execution_count": 77,
   "metadata": {},
   "outputs": [],
   "source": [
    "!rm /home/maghoi/main/data/models/*"
   ]
  },
  {
   "cell_type": "code",
   "execution_count": 78,
   "metadata": {},
   "outputs": [
    {
     "name": "stdout",
     "output_type": "stream",
     "text": [
      "Cycle: 1 / 4 Epochs: 1 LR: 0.01 -> 0.1\n"
     ]
    },
    {
     "data": {
      "text/html": [
       "Total time: 00:07 <p><table style='width:300px; margin-bottom:10px'>\n",
       "  <tr>\n",
       "    <th>epoch</th>\n",
       "    <th>train_loss</th>\n",
       "    <th>valid_loss</th>\n",
       "    <th>accuracy</th>\n",
       "  </tr>\n",
       "  <tr>\n",
       "    <th>1</th>\n",
       "    <th>0.524657</th>\n",
       "    <th>0.606094</th>\n",
       "    <th>0.791667</th>\n",
       "  </tr>\n",
       "</table>\n"
      ],
      "text/plain": [
       "<IPython.core.display.HTML object>"
      ]
     },
     "metadata": {},
     "output_type": "display_data"
    },
    {
     "name": "stdout",
     "output_type": "stream",
     "text": [
      "Cycle: 2 / 4 Epochs: 1 LR: 0.01 -> 0.1\n"
     ]
    },
    {
     "data": {
      "text/html": [
       "Total time: 00:06 <p><table style='width:300px; margin-bottom:10px'>\n",
       "  <tr>\n",
       "    <th>epoch</th>\n",
       "    <th>train_loss</th>\n",
       "    <th>valid_loss</th>\n",
       "    <th>accuracy</th>\n",
       "  </tr>\n",
       "  <tr>\n",
       "    <th>1</th>\n",
       "    <th>0.377113</th>\n",
       "    <th>0.660827</th>\n",
       "    <th>0.662879</th>\n",
       "  </tr>\n",
       "</table>\n"
      ],
      "text/plain": [
       "<IPython.core.display.HTML object>"
      ]
     },
     "metadata": {},
     "output_type": "display_data"
    },
    {
     "name": "stdout",
     "output_type": "stream",
     "text": [
      "Cycle: 3 / 4 Epochs: 1 LR: 0.001 -> 0.05\n"
     ]
    },
    {
     "data": {
      "text/html": [
       "Total time: 00:06 <p><table style='width:300px; margin-bottom:10px'>\n",
       "  <tr>\n",
       "    <th>epoch</th>\n",
       "    <th>train_loss</th>\n",
       "    <th>valid_loss</th>\n",
       "    <th>accuracy</th>\n",
       "  </tr>\n",
       "  <tr>\n",
       "    <th>1</th>\n",
       "    <th>0.276635</th>\n",
       "    <th>0.604493</th>\n",
       "    <th>0.685606</th>\n",
       "  </tr>\n",
       "</table>\n"
      ],
      "text/plain": [
       "<IPython.core.display.HTML object>"
      ]
     },
     "metadata": {},
     "output_type": "display_data"
    },
    {
     "name": "stdout",
     "output_type": "stream",
     "text": [
      "Cycle: 4 / 4 Epochs: 1 LR: 0.001 -> 0.05\n"
     ]
    },
    {
     "data": {
      "text/html": [
       "Total time: 00:06 <p><table style='width:300px; margin-bottom:10px'>\n",
       "  <tr>\n",
       "    <th>epoch</th>\n",
       "    <th>train_loss</th>\n",
       "    <th>valid_loss</th>\n",
       "    <th>accuracy</th>\n",
       "  </tr>\n",
       "  <tr>\n",
       "    <th>1</th>\n",
       "    <th>0.236375</th>\n",
       "    <th>0.652951</th>\n",
       "    <th>0.681818</th>\n",
       "  </tr>\n",
       "</table>\n"
      ],
      "text/plain": [
       "<IPython.core.display.HTML object>"
      ]
     },
     "metadata": {},
     "output_type": "display_data"
    }
   ],
   "source": [
    "#Reloading model because wtf pytorch\n",
    "my_data_bunch = DataBunch.create(train_ds, valid_ds0, test_ds0, bs=batch_size)\n",
    "net = Model().cuda()\n",
    "learn = Learner(my_data_bunch,\n",
    "                     net,\n",
    "                     opt_func=torch.optim.Adam,\n",
    "                     loss_func=criterion, metrics=[accuracy],\n",
    "                     callback_fns=[partial(EarlyStoppingCallback, min_delta=0.01, patience=3)],\n",
    "                     wd = 0.01)\n",
    "\n",
    "#Stats\n",
    "filepath = simple_train(cycles = 4, epochs = 4*[1], LR = [1e-02, 1e-01, 1e-02, 1e-01, 1e-03, 5e-02, 1e-03, 5e-02],\n",
    "                                learn = learn, comment = \"NCV\",\n",
    "                               val_part = 3, test_part = 4)\n",
    "\n",
    "learn.load(filepath)\n",
    "i = 1\n",
    "stats_to_csv(comment = \"3may\"+str(i), val_part = 3, test_part = 4, ds = DatasetType.Valid, learn = learn)\n",
    "stats_to_csv(comment = \"3may\"+str(i), val_part = 3, test_part = 4, ds = DatasetType.Test, learn = learn)"
   ]
  },
  {
   "cell_type": "code",
   "execution_count": 82,
   "metadata": {},
   "outputs": [
    {
     "name": "stdout",
     "output_type": "stream",
     "text": [
      "['3may1', 4, 3, [0, 1, 2], 0.727, 0.672, 0.036, 0.249, 0.205, 0.832, array([[183,  37],\n",
      "       [ 35,   9]]), 563, '2019-05-03 21:28:58.578257']\n"
     ]
    }
   ],
   "source": [
    "learn.load(filepath)\n",
    "i = 1\n",
    "stats_to_csv(comment = \"3may\"+str(i), val_part = 3, test_part = 4, ds = DatasetType.Valid, learn = learn)\n",
    "stats_to_csv(comment = \"3may\"+str(i), val_part = 3, test_part = 4, ds = DatasetType.Test, learn = learn)\n"
   ]
  },
  {
   "cell_type": "code",
   "execution_count": 83,
   "metadata": {},
   "outputs": [
    {
     "data": {
      "text/html": [
       "<div>\n",
       "<style scoped>\n",
       "    .dataframe tbody tr th:only-of-type {\n",
       "        vertical-align: middle;\n",
       "    }\n",
       "\n",
       "    .dataframe tbody tr th {\n",
       "        vertical-align: top;\n",
       "    }\n",
       "\n",
       "    .dataframe thead th {\n",
       "        text-align: right;\n",
       "    }\n",
       "</style>\n",
       "<table border=\"1\" class=\"dataframe\">\n",
       "  <thead>\n",
       "    <tr style=\"text-align: right;\">\n",
       "      <th></th>\n",
       "      <th>Comment</th>\n",
       "      <th>Test</th>\n",
       "      <th>Validation</th>\n",
       "      <th>Training</th>\n",
       "      <th>Correct</th>\n",
       "      <th>AUC</th>\n",
       "      <th>MCC</th>\n",
       "      <th>AVP</th>\n",
       "      <th>TPR</th>\n",
       "      <th>TNR</th>\n",
       "      <th>Confusion matrix</th>\n",
       "      <th>Duration (s)</th>\n",
       "      <th>Timestamp</th>\n",
       "    </tr>\n",
       "  </thead>\n",
       "  <tbody>\n",
       "    <tr>\n",
       "      <th>0</th>\n",
       "      <td>3may1</td>\n",
       "      <td>4</td>\n",
       "      <td>3</td>\n",
       "      <td>[0, 1, 2]</td>\n",
       "      <td>0.716</td>\n",
       "      <td>0.621</td>\n",
       "      <td>-0.072</td>\n",
       "      <td>0.206</td>\n",
       "      <td>0.091</td>\n",
       "      <td>0.841</td>\n",
       "      <td>[[185  35]\\n [ 40   4]]</td>\n",
       "      <td>476</td>\n",
       "      <td>2019-05-03 21:27:31.837376</td>\n",
       "    </tr>\n",
       "    <tr>\n",
       "      <th>0</th>\n",
       "      <td>3may1</td>\n",
       "      <td>4</td>\n",
       "      <td>3</td>\n",
       "      <td>[0, 1, 2]</td>\n",
       "      <td>0.811</td>\n",
       "      <td>0.678</td>\n",
       "      <td>0.280</td>\n",
       "      <td>0.453</td>\n",
       "      <td>0.364</td>\n",
       "      <td>0.900</td>\n",
       "      <td>[[198  22]\\n [ 28  16]]</td>\n",
       "      <td>536</td>\n",
       "      <td>2019-05-03 21:28:32.405542</td>\n",
       "    </tr>\n",
       "    <tr>\n",
       "      <th>0</th>\n",
       "      <td>3may1</td>\n",
       "      <td>4</td>\n",
       "      <td>3</td>\n",
       "      <td>[0, 1, 2]</td>\n",
       "      <td>0.716</td>\n",
       "      <td>0.621</td>\n",
       "      <td>-0.072</td>\n",
       "      <td>0.206</td>\n",
       "      <td>0.091</td>\n",
       "      <td>0.841</td>\n",
       "      <td>[[185  35]\\n [ 40   4]]</td>\n",
       "      <td>539</td>\n",
       "      <td>2019-05-03 21:28:35.056715</td>\n",
       "    </tr>\n",
       "    <tr>\n",
       "      <th>0</th>\n",
       "      <td>3may1</td>\n",
       "      <td>4</td>\n",
       "      <td>3</td>\n",
       "      <td>[0, 1, 2]</td>\n",
       "      <td>0.682</td>\n",
       "      <td>0.565</td>\n",
       "      <td>0.106</td>\n",
       "      <td>0.186</td>\n",
       "      <td>0.386</td>\n",
       "      <td>0.741</td>\n",
       "      <td>[[163  57]\\n [ 27  17]]</td>\n",
       "      <td>560</td>\n",
       "      <td>2019-05-03 21:28:56.132863</td>\n",
       "    </tr>\n",
       "    <tr>\n",
       "      <th>0</th>\n",
       "      <td>3may1</td>\n",
       "      <td>4</td>\n",
       "      <td>3</td>\n",
       "      <td>[0, 1, 2]</td>\n",
       "      <td>0.727</td>\n",
       "      <td>0.672</td>\n",
       "      <td>0.036</td>\n",
       "      <td>0.249</td>\n",
       "      <td>0.205</td>\n",
       "      <td>0.832</td>\n",
       "      <td>[[183  37]\\n [ 35   9]]</td>\n",
       "      <td>563</td>\n",
       "      <td>2019-05-03 21:28:58.578257</td>\n",
       "    </tr>\n",
       "  </tbody>\n",
       "</table>\n",
       "</div>"
      ],
      "text/plain": [
       "  Comment  Test  Validation   Training  Correct    AUC    MCC    AVP    TPR  \\\n",
       "0   3may1     4           3  [0, 1, 2]    0.716  0.621 -0.072  0.206  0.091   \n",
       "0   3may1     4           3  [0, 1, 2]    0.811  0.678  0.280  0.453  0.364   \n",
       "0   3may1     4           3  [0, 1, 2]    0.716  0.621 -0.072  0.206  0.091   \n",
       "0   3may1     4           3  [0, 1, 2]    0.682  0.565  0.106  0.186  0.386   \n",
       "0   3may1     4           3  [0, 1, 2]    0.727  0.672  0.036  0.249  0.205   \n",
       "\n",
       "     TNR         Confusion matrix  Duration (s)                   Timestamp  \n",
       "0  0.841  [[185  35]\\n [ 40   4]]           476  2019-05-03 21:27:31.837376  \n",
       "0  0.900  [[198  22]\\n [ 28  16]]           536  2019-05-03 21:28:32.405542  \n",
       "0  0.841  [[185  35]\\n [ 40   4]]           539  2019-05-03 21:28:35.056715  \n",
       "0  0.741  [[163  57]\\n [ 27  17]]           560  2019-05-03 21:28:56.132863  \n",
       "0  0.832  [[183  37]\\n [ 35   9]]           563  2019-05-03 21:28:58.578257  "
      ]
     },
     "execution_count": 83,
     "metadata": {},
     "output_type": "execute_result"
    }
   ],
   "source": [
    "csvfile(5)"
   ]
  },
  {
   "cell_type": "code",
   "execution_count": 408,
   "metadata": {},
   "outputs": [
    {
     "name": "stdout",
     "output_type": "stream",
     "text": [
      "['0learn test4', 4, 3, [0, 1, 2], 0.731, 0.639, 0.179, 0.238, 0.409, 0.795, array([[175,  45],\n",
      "       [ 26,  18]]), 5126, '2019-05-03 16:28:11.950583']\n"
     ]
    }
   ],
   "source": [
    "learn.load(filepath)\n",
    "stats_to_csv(comment = \"0learn\"+str(i), val_part = 3, test_part = 4, learn = learn, ds = DatasetType.Valid)\n",
    "stats_to_csv(comment = \"0learn test\"+str(i), val_part = 3, test_part = 4, learn = learn, ds = DatasetType.Test)"
   ]
  },
  {
   "cell_type": "code",
   "execution_count": 602,
   "metadata": {},
   "outputs": [
    {
     "name": "stdout",
     "output_type": "stream",
     "text": [
      "[4, [0, 1, 2, 3], 0.746, 0.529, -0.084, 0.214, 0.045, 0.886, array([[195,  25],\n",
      "       [ 42,   2]]), 51, '2019-05-01 17:32:59.976700']\n"
     ]
    }
   ],
   "source": [
    "#CSV df function\n",
    "for i in range(0, 5):\n",
    "    #Define partitions\n",
    "    train_str = [0,1,2,3,4]\n",
    "    partitions = [p0, p1, p2, p3, p4]\n",
    "    train_part = []\n",
    "    val_part = []\n",
    "\n",
    "    #Set val and train parts\n",
    "    val_part = partitions[i]\n",
    "    del partitions[i]\n",
    "    \n",
    "    for i2 in range(len(partitions)):\n",
    "        train_part.extend(partitions[i2])\n",
    "        \n",
    "    val_str = i\n",
    "    del train_str[i]\n",
    "    \n",
    "    print(\"Val\", str(val_str))\n",
    "    print(\"Train\", str(train_str))\n",
    "    now = time.time()\n",
    "    \n",
    "    #Set up databunch\n",
    "    train = train_part\n",
    "    valid = val_part\n",
    "    test = p4 #irrelevant\n",
    "\n",
    "    Xt, yt, Xt_val, yt_val, Xt_test, yt_test = data_generator(train, valid, test)\n",
    "    X0_val, y0_val, X0_test, y0_test = Xt_val.copy(), yt_val.copy(), Xt_test.copy(), yt_test.copy()\n",
    "    \n",
    "    #Upsample\n",
    "    Xp, yp = upsample(Xt, yt)\n",
    "\n",
    "    #Set to int / float values\n",
    "    X = to_torch_data(Xp,float,torch.float32)\n",
    "    y = to_torch_data(yp,int,torch.int64)\n",
    "\n",
    "    X0_val, X0_test = map(lambda x: to_torch_data(x,float,torch.float32),(X0_val, X0_test))\n",
    "    y0_val, y0_test = map(lambda x: to_torch_data(x,int,torch.int64),(y0_val, y0_test))\n",
    "\n",
    "    train_ds = tdatautils.TensorDataset(X, y)\n",
    "    valid_ds0 = tdatautils.TensorDataset(X0_val, y0_val)\n",
    "\n",
    "    #Setup model\n",
    "    my_data_bunch = DataBunch.create(train_ds, valid_ds0, bs=batch_size)\n",
    "    net = Model().cuda()\n",
    "    learn = Learner(my_data_bunch,\n",
    "                         net,\n",
    "                         opt_func=torch.optim.Adam,\n",
    "                         loss_func=criterion, metrics=[accuracy],\n",
    "                        wd = 0.01)\n",
    "    \n",
    "    #Train\n",
    "    learn.fit_one_cycle(4, max_lr=slice(None, 1e-02, 1e-01), wd = 0.01)\n",
    "    \n",
    "    #Stats\n",
    "    data = record_stats()\n",
    "    duration = round(time.time() - now)\n",
    "    timestamp = str(datetime.datetime.now())\n",
    "    \n",
    "    row = [val_str, train_str] + list(data) + [duration, timestamp]\n",
    "    stat_df.loc[len(stat_df)] = row\n",
    "    print(row)"
   ]
  },
  {
   "cell_type": "code",
   "execution_count": 40,
   "metadata": {},
   "outputs": [
    {
     "data": {
      "text/html": [
       "<div>\n",
       "<style scoped>\n",
       "    .dataframe tbody tr th:only-of-type {\n",
       "        vertical-align: middle;\n",
       "    }\n",
       "\n",
       "    .dataframe tbody tr th {\n",
       "        vertical-align: top;\n",
       "    }\n",
       "\n",
       "    .dataframe thead th {\n",
       "        text-align: right;\n",
       "    }\n",
       "</style>\n",
       "<table border=\"1\" class=\"dataframe\">\n",
       "  <thead>\n",
       "    <tr style=\"text-align: right;\">\n",
       "      <th></th>\n",
       "      <th>Comment</th>\n",
       "      <th>Test</th>\n",
       "      <th>Validation</th>\n",
       "      <th>Training</th>\n",
       "      <th>Correct</th>\n",
       "      <th>AUC</th>\n",
       "      <th>MCC</th>\n",
       "      <th>AVP</th>\n",
       "      <th>TPR</th>\n",
       "      <th>TNR</th>\n",
       "      <th>Confusion matrix</th>\n",
       "      <th>Duration (s)</th>\n",
       "      <th>Timestamp</th>\n",
       "    </tr>\n",
       "  </thead>\n",
       "  <tbody>\n",
       "    <tr>\n",
       "      <th>0</th>\n",
       "      <td>NCV</td>\n",
       "      <td>4</td>\n",
       "      <td>3</td>\n",
       "      <td>[0, 1, 2]</td>\n",
       "      <td>0.701</td>\n",
       "      <td>0.580</td>\n",
       "      <td>-0.068</td>\n",
       "      <td>0.184</td>\n",
       "      <td>0.114</td>\n",
       "      <td>0.818</td>\n",
       "      <td>[[180  40]\\n [ 39   5]]</td>\n",
       "      <td>5528</td>\n",
       "      <td>2019-05-03 22:51:44.231062</td>\n",
       "    </tr>\n",
       "    <tr>\n",
       "      <th>0</th>\n",
       "      <td>CV</td>\n",
       "      <td>0</td>\n",
       "      <td>0</td>\n",
       "      <td>[1, 2, 3, 4]</td>\n",
       "      <td>0.780</td>\n",
       "      <td>0.769</td>\n",
       "      <td>0.302</td>\n",
       "      <td>0.456</td>\n",
       "      <td>0.500</td>\n",
       "      <td>0.836</td>\n",
       "      <td>[[234  46]\\n [ 28  28]]</td>\n",
       "      <td>7911</td>\n",
       "      <td>2019-05-03 23:31:26.566609</td>\n",
       "    </tr>\n",
       "    <tr>\n",
       "      <th>0</th>\n",
       "      <td>CV</td>\n",
       "      <td>0</td>\n",
       "      <td>1</td>\n",
       "      <td>[0, 2, 3, 4]</td>\n",
       "      <td>0.817</td>\n",
       "      <td>0.705</td>\n",
       "      <td>0.306</td>\n",
       "      <td>0.383</td>\n",
       "      <td>0.385</td>\n",
       "      <td>0.904</td>\n",
       "      <td>[[235  25]\\n [ 32  20]]</td>\n",
       "      <td>7961</td>\n",
       "      <td>2019-05-03 23:32:17.139816</td>\n",
       "    </tr>\n",
       "    <tr>\n",
       "      <th>0</th>\n",
       "      <td>CV</td>\n",
       "      <td>0</td>\n",
       "      <td>2</td>\n",
       "      <td>[0, 1, 3, 4]</td>\n",
       "      <td>0.799</td>\n",
       "      <td>0.839</td>\n",
       "      <td>0.430</td>\n",
       "      <td>0.443</td>\n",
       "      <td>0.688</td>\n",
       "      <td>0.821</td>\n",
       "      <td>[[197  43]\\n [ 15  33]]</td>\n",
       "      <td>8015</td>\n",
       "      <td>2019-05-03 23:33:10.775287</td>\n",
       "    </tr>\n",
       "    <tr>\n",
       "      <th>0</th>\n",
       "      <td>CV_3cycles</td>\n",
       "      <td>0</td>\n",
       "      <td>0</td>\n",
       "      <td>[1, 2, 3, 4]</td>\n",
       "      <td>0.762</td>\n",
       "      <td>0.758</td>\n",
       "      <td>0.382</td>\n",
       "      <td>0.431</td>\n",
       "      <td>0.696</td>\n",
       "      <td>0.775</td>\n",
       "      <td>[[217  63]\\n [ 17  39]]</td>\n",
       "      <td>9809</td>\n",
       "      <td>2019-05-04 00:03:05.107055</td>\n",
       "    </tr>\n",
       "    <tr>\n",
       "      <th>0</th>\n",
       "      <td>CV_3cycles</td>\n",
       "      <td>0</td>\n",
       "      <td>0</td>\n",
       "      <td>[1, 2, 3, 4]</td>\n",
       "      <td>0.658</td>\n",
       "      <td>0.765</td>\n",
       "      <td>0.304</td>\n",
       "      <td>0.349</td>\n",
       "      <td>0.768</td>\n",
       "      <td>0.636</td>\n",
       "      <td>[[178 102]\\n [ 13  43]]</td>\n",
       "      <td>10724</td>\n",
       "      <td>2019-05-04 00:18:20.333123</td>\n",
       "    </tr>\n",
       "    <tr>\n",
       "      <th>0</th>\n",
       "      <td>CV_3cycles</td>\n",
       "      <td>0</td>\n",
       "      <td>1</td>\n",
       "      <td>[0, 2, 3, 4]</td>\n",
       "      <td>0.603</td>\n",
       "      <td>0.676</td>\n",
       "      <td>0.151</td>\n",
       "      <td>0.306</td>\n",
       "      <td>0.596</td>\n",
       "      <td>0.604</td>\n",
       "      <td>[[157 103]\\n [ 21  31]]</td>\n",
       "      <td>10751</td>\n",
       "      <td>2019-05-04 00:18:47.192131</td>\n",
       "    </tr>\n",
       "    <tr>\n",
       "      <th>0</th>\n",
       "      <td>CV_3cycles</td>\n",
       "      <td>0</td>\n",
       "      <td>0</td>\n",
       "      <td>[1, 2, 3, 4]</td>\n",
       "      <td>0.777</td>\n",
       "      <td>0.729</td>\n",
       "      <td>0.317</td>\n",
       "      <td>0.353</td>\n",
       "      <td>0.536</td>\n",
       "      <td>0.825</td>\n",
       "      <td>[[231  49]\\n [ 26  30]]</td>\n",
       "      <td>12493</td>\n",
       "      <td>2019-05-04 00:47:48.688729</td>\n",
       "    </tr>\n",
       "    <tr>\n",
       "      <th>0</th>\n",
       "      <td>CV_3cycles</td>\n",
       "      <td>0</td>\n",
       "      <td>1</td>\n",
       "      <td>[0, 2, 3, 4]</td>\n",
       "      <td>0.833</td>\n",
       "      <td>0.701</td>\n",
       "      <td>0.208</td>\n",
       "      <td>0.341</td>\n",
       "      <td>0.154</td>\n",
       "      <td>0.969</td>\n",
       "      <td>[[252   8]\\n [ 44   8]]</td>\n",
       "      <td>12554</td>\n",
       "      <td>2019-05-04 00:48:50.040942</td>\n",
       "    </tr>\n",
       "    <tr>\n",
       "      <th>0</th>\n",
       "      <td>CV_3cycles</td>\n",
       "      <td>0</td>\n",
       "      <td>2</td>\n",
       "      <td>[0, 1, 3, 4]</td>\n",
       "      <td>0.736</td>\n",
       "      <td>0.647</td>\n",
       "      <td>0.177</td>\n",
       "      <td>0.324</td>\n",
       "      <td>0.396</td>\n",
       "      <td>0.804</td>\n",
       "      <td>[[193  47]\\n [ 29  19]]</td>\n",
       "      <td>12617</td>\n",
       "      <td>2019-05-04 00:49:52.974690</td>\n",
       "    </tr>\n",
       "  </tbody>\n",
       "</table>\n",
       "</div>"
      ],
      "text/plain": [
       "      Comment  Test  Validation      Training  Correct    AUC    MCC    AVP  \\\n",
       "0         NCV     4           3     [0, 1, 2]    0.701  0.580 -0.068  0.184   \n",
       "0          CV     0           0  [1, 2, 3, 4]    0.780  0.769  0.302  0.456   \n",
       "0          CV     0           1  [0, 2, 3, 4]    0.817  0.705  0.306  0.383   \n",
       "0          CV     0           2  [0, 1, 3, 4]    0.799  0.839  0.430  0.443   \n",
       "0  CV_3cycles     0           0  [1, 2, 3, 4]    0.762  0.758  0.382  0.431   \n",
       "0  CV_3cycles     0           0  [1, 2, 3, 4]    0.658  0.765  0.304  0.349   \n",
       "0  CV_3cycles     0           1  [0, 2, 3, 4]    0.603  0.676  0.151  0.306   \n",
       "0  CV_3cycles     0           0  [1, 2, 3, 4]    0.777  0.729  0.317  0.353   \n",
       "0  CV_3cycles     0           1  [0, 2, 3, 4]    0.833  0.701  0.208  0.341   \n",
       "0  CV_3cycles     0           2  [0, 1, 3, 4]    0.736  0.647  0.177  0.324   \n",
       "\n",
       "     TPR    TNR         Confusion matrix  Duration (s)  \\\n",
       "0  0.114  0.818  [[180  40]\\n [ 39   5]]          5528   \n",
       "0  0.500  0.836  [[234  46]\\n [ 28  28]]          7911   \n",
       "0  0.385  0.904  [[235  25]\\n [ 32  20]]          7961   \n",
       "0  0.688  0.821  [[197  43]\\n [ 15  33]]          8015   \n",
       "0  0.696  0.775  [[217  63]\\n [ 17  39]]          9809   \n",
       "0  0.768  0.636  [[178 102]\\n [ 13  43]]         10724   \n",
       "0  0.596  0.604  [[157 103]\\n [ 21  31]]         10751   \n",
       "0  0.536  0.825  [[231  49]\\n [ 26  30]]         12493   \n",
       "0  0.154  0.969  [[252   8]\\n [ 44   8]]         12554   \n",
       "0  0.396  0.804  [[193  47]\\n [ 29  19]]         12617   \n",
       "\n",
       "                    Timestamp  \n",
       "0  2019-05-03 22:51:44.231062  \n",
       "0  2019-05-03 23:31:26.566609  \n",
       "0  2019-05-03 23:32:17.139816  \n",
       "0  2019-05-03 23:33:10.775287  \n",
       "0  2019-05-04 00:03:05.107055  \n",
       "0  2019-05-04 00:18:20.333123  \n",
       "0  2019-05-04 00:18:47.192131  \n",
       "0  2019-05-04 00:47:48.688729  \n",
       "0  2019-05-04 00:48:50.040942  \n",
       "0  2019-05-04 00:49:52.974690  "
      ]
     },
     "execution_count": 40,
     "metadata": {},
     "output_type": "execute_result"
    }
   ],
   "source": [
    "csvfile()"
   ]
  },
  {
   "cell_type": "code",
   "execution_count": 64,
   "metadata": {},
   "outputs": [],
   "source": [
    "df = pd.read_csv(\"/home/maghoi/Magnus_pMHC/CSV0.csv\").iloc[15:]"
   ]
  },
  {
   "cell_type": "code",
   "execution_count": 76,
   "metadata": {},
   "outputs": [],
   "source": [
    "df[\"Validation\"] = df[\"Validation\"].astype(str)"
   ]
  },
  {
   "cell_type": "code",
   "execution_count": 83,
   "metadata": {},
   "outputs": [],
   "source": [
    "df0 = df[df[\"Validation\"].str.contains(\"0\")]\n",
    "df1 = df[df[\"Validation\"].str.contains(\"1\")]\n",
    "df2 = df[df[\"Validation\"].str.contains(\"2\")]\n",
    "df3 = df[df[\"Validation\"].str.contains(\"3\")]\n",
    "df4 = df[df[\"Validation\"].str.contains(\"4\")]\n"
   ]
  },
  {
   "cell_type": "code",
   "execution_count": null,
   "metadata": {},
   "outputs": [],
   "source": []
  },
  {
   "cell_type": "code",
   "execution_count": null,
   "metadata": {},
   "outputs": [],
   "source": []
  },
  {
   "cell_type": "code",
   "execution_count": 77,
   "metadata": {},
   "outputs": [
    {
     "ename": "AttributeError",
     "evalue": "'DataFrame' object has no attribute 'str'",
     "output_type": "error",
     "traceback": [
      "\u001b[0;31m---------------------------------------------------------------------------\u001b[0m",
      "\u001b[0;31mAttributeError\u001b[0m                            Traceback (most recent call last)",
      "\u001b[0;32m<ipython-input-77-e5887559c3da>\u001b[0m in \u001b[0;36m<module>\u001b[0;34m\u001b[0m\n\u001b[0;32m----> 1\u001b[0;31m \u001b[0mpd\u001b[0m\u001b[0;34m.\u001b[0m\u001b[0mDataFrame\u001b[0m\u001b[0;34m(\u001b[0m\u001b[0mdf\u001b[0m\u001b[0;34m[\u001b[0m\u001b[0;34m\"Validation\"\u001b[0m\u001b[0;34m]\u001b[0m\u001b[0;34m)\u001b[0m\u001b[0;34m.\u001b[0m\u001b[0mstr\u001b[0m\u001b[0;34m.\u001b[0m\u001b[0mcontains\u001b[0m\u001b[0;34m(\u001b[0m\u001b[0;34m\"0\"\u001b[0m\u001b[0;34m)\u001b[0m\u001b[0;34m\u001b[0m\u001b[0;34m\u001b[0m\u001b[0m\n\u001b[0m\u001b[1;32m      2\u001b[0m \u001b[0;31m#df2\u001b[0m\u001b[0;34m\u001b[0m\u001b[0;34m\u001b[0m\u001b[0;34m\u001b[0m\u001b[0m\n\u001b[1;32m      3\u001b[0m \u001b[0;31m#df3\u001b[0m\u001b[0;34m\u001b[0m\u001b[0;34m\u001b[0m\u001b[0;34m\u001b[0m\u001b[0m\n\u001b[1;32m      4\u001b[0m \u001b[0;31m#df4\u001b[0m\u001b[0;34m\u001b[0m\u001b[0;34m\u001b[0m\u001b[0;34m\u001b[0m\u001b[0m\n\u001b[1;32m      5\u001b[0m \u001b[0;31m#df5\u001b[0m\u001b[0;34m\u001b[0m\u001b[0;34m\u001b[0m\u001b[0;34m\u001b[0m\u001b[0m\n",
      "\u001b[0;32m~/.conda/envs/fastai_py37/lib/python3.7/site-packages/pandas/core/generic.py\u001b[0m in \u001b[0;36m__getattr__\u001b[0;34m(self, name)\u001b[0m\n\u001b[1;32m   5055\u001b[0m             \u001b[0;32mif\u001b[0m \u001b[0mself\u001b[0m\u001b[0;34m.\u001b[0m\u001b[0m_info_axis\u001b[0m\u001b[0;34m.\u001b[0m\u001b[0m_can_hold_identifiers_and_holds_name\u001b[0m\u001b[0;34m(\u001b[0m\u001b[0mname\u001b[0m\u001b[0;34m)\u001b[0m\u001b[0;34m:\u001b[0m\u001b[0;34m\u001b[0m\u001b[0;34m\u001b[0m\u001b[0m\n\u001b[1;32m   5056\u001b[0m                 \u001b[0;32mreturn\u001b[0m \u001b[0mself\u001b[0m\u001b[0;34m[\u001b[0m\u001b[0mname\u001b[0m\u001b[0;34m]\u001b[0m\u001b[0;34m\u001b[0m\u001b[0;34m\u001b[0m\u001b[0m\n\u001b[0;32m-> 5057\u001b[0;31m             \u001b[0;32mreturn\u001b[0m \u001b[0mobject\u001b[0m\u001b[0;34m.\u001b[0m\u001b[0m__getattribute__\u001b[0m\u001b[0;34m(\u001b[0m\u001b[0mself\u001b[0m\u001b[0;34m,\u001b[0m \u001b[0mname\u001b[0m\u001b[0;34m)\u001b[0m\u001b[0;34m\u001b[0m\u001b[0;34m\u001b[0m\u001b[0m\n\u001b[0m\u001b[1;32m   5058\u001b[0m \u001b[0;34m\u001b[0m\u001b[0m\n\u001b[1;32m   5059\u001b[0m     \u001b[0;32mdef\u001b[0m \u001b[0m__setattr__\u001b[0m\u001b[0;34m(\u001b[0m\u001b[0mself\u001b[0m\u001b[0;34m,\u001b[0m \u001b[0mname\u001b[0m\u001b[0;34m,\u001b[0m \u001b[0mvalue\u001b[0m\u001b[0;34m)\u001b[0m\u001b[0;34m:\u001b[0m\u001b[0;34m\u001b[0m\u001b[0;34m\u001b[0m\u001b[0m\n",
      "\u001b[0;31mAttributeError\u001b[0m: 'DataFrame' object has no attribute 'str'"
     ]
    }
   ],
   "source": [
    "pd.DataFrame(df[\"Validation\"]).str.contains(\"0\")\n",
    "#df2\n",
    "#df3\n",
    "#df4\n",
    "#df5"
   ]
  },
  {
   "cell_type": "code",
   "execution_count": 51,
   "metadata": {},
   "outputs": [
    {
     "data": {
      "text/html": [
       "<div>\n",
       "<style scoped>\n",
       "    .dataframe tbody tr th:only-of-type {\n",
       "        vertical-align: middle;\n",
       "    }\n",
       "\n",
       "    .dataframe tbody tr th {\n",
       "        vertical-align: top;\n",
       "    }\n",
       "\n",
       "    .dataframe thead th {\n",
       "        text-align: right;\n",
       "    }\n",
       "</style>\n",
       "<table border=\"1\" class=\"dataframe\">\n",
       "  <thead>\n",
       "    <tr style=\"text-align: right;\">\n",
       "      <th></th>\n",
       "      <th>Test</th>\n",
       "      <th>Validation</th>\n",
       "      <th>Correct</th>\n",
       "      <th>AUC</th>\n",
       "      <th>MCC</th>\n",
       "      <th>AVP</th>\n",
       "      <th>TPR</th>\n",
       "      <th>TNR</th>\n",
       "      <th>Duration (s)</th>\n",
       "    </tr>\n",
       "  </thead>\n",
       "  <tbody>\n",
       "    <tr>\n",
       "      <th>count</th>\n",
       "      <td>100.0</td>\n",
       "      <td>100.000000</td>\n",
       "      <td>100.000000</td>\n",
       "      <td>100.000000</td>\n",
       "      <td>100.000000</td>\n",
       "      <td>100.00000</td>\n",
       "      <td>100.000000</td>\n",
       "      <td>100.000000</td>\n",
       "      <td>100.000000</td>\n",
       "    </tr>\n",
       "    <tr>\n",
       "      <th>mean</th>\n",
       "      <td>0.0</td>\n",
       "      <td>2.000000</td>\n",
       "      <td>0.772070</td>\n",
       "      <td>0.693590</td>\n",
       "      <td>0.216730</td>\n",
       "      <td>0.36859</td>\n",
       "      <td>0.371390</td>\n",
       "      <td>0.852120</td>\n",
       "      <td>60.870000</td>\n",
       "    </tr>\n",
       "    <tr>\n",
       "      <th>std</th>\n",
       "      <td>0.0</td>\n",
       "      <td>1.421338</td>\n",
       "      <td>0.055365</td>\n",
       "      <td>0.107089</td>\n",
       "      <td>0.160917</td>\n",
       "      <td>0.11559</td>\n",
       "      <td>0.212688</td>\n",
       "      <td>0.077725</td>\n",
       "      <td>28.895372</td>\n",
       "    </tr>\n",
       "    <tr>\n",
       "      <th>min</th>\n",
       "      <td>0.0</td>\n",
       "      <td>0.000000</td>\n",
       "      <td>0.606000</td>\n",
       "      <td>0.398000</td>\n",
       "      <td>-0.170000</td>\n",
       "      <td>0.13400</td>\n",
       "      <td>0.045000</td>\n",
       "      <td>0.627000</td>\n",
       "      <td>18.000000</td>\n",
       "    </tr>\n",
       "    <tr>\n",
       "      <th>25%</th>\n",
       "      <td>0.0</td>\n",
       "      <td>1.000000</td>\n",
       "      <td>0.739000</td>\n",
       "      <td>0.632000</td>\n",
       "      <td>0.136500</td>\n",
       "      <td>0.30350</td>\n",
       "      <td>0.205000</td>\n",
       "      <td>0.808750</td>\n",
       "      <td>35.000000</td>\n",
       "    </tr>\n",
       "    <tr>\n",
       "      <th>50%</th>\n",
       "      <td>0.0</td>\n",
       "      <td>2.000000</td>\n",
       "      <td>0.786000</td>\n",
       "      <td>0.714500</td>\n",
       "      <td>0.225500</td>\n",
       "      <td>0.37800</td>\n",
       "      <td>0.324000</td>\n",
       "      <td>0.859000</td>\n",
       "      <td>61.500000</td>\n",
       "    </tr>\n",
       "    <tr>\n",
       "      <th>75%</th>\n",
       "      <td>0.0</td>\n",
       "      <td>3.000000</td>\n",
       "      <td>0.814250</td>\n",
       "      <td>0.770000</td>\n",
       "      <td>0.345500</td>\n",
       "      <td>0.44100</td>\n",
       "      <td>0.521000</td>\n",
       "      <td>0.905000</td>\n",
       "      <td>86.000000</td>\n",
       "    </tr>\n",
       "    <tr>\n",
       "      <th>max</th>\n",
       "      <td>0.0</td>\n",
       "      <td>4.000000</td>\n",
       "      <td>0.859000</td>\n",
       "      <td>0.897000</td>\n",
       "      <td>0.485000</td>\n",
       "      <td>0.67000</td>\n",
       "      <td>0.917000</td>\n",
       "      <td>0.977000</td>\n",
       "      <td>117.000000</td>\n",
       "    </tr>\n",
       "  </tbody>\n",
       "</table>\n",
       "</div>"
      ],
      "text/plain": [
       "        Test  Validation     Correct         AUC         MCC        AVP  \\\n",
       "count  100.0  100.000000  100.000000  100.000000  100.000000  100.00000   \n",
       "mean     0.0    2.000000    0.772070    0.693590    0.216730    0.36859   \n",
       "std      0.0    1.421338    0.055365    0.107089    0.160917    0.11559   \n",
       "min      0.0    0.000000    0.606000    0.398000   -0.170000    0.13400   \n",
       "25%      0.0    1.000000    0.739000    0.632000    0.136500    0.30350   \n",
       "50%      0.0    2.000000    0.786000    0.714500    0.225500    0.37800   \n",
       "75%      0.0    3.000000    0.814250    0.770000    0.345500    0.44100   \n",
       "max      0.0    4.000000    0.859000    0.897000    0.485000    0.67000   \n",
       "\n",
       "              TPR         TNR  Duration (s)  \n",
       "count  100.000000  100.000000    100.000000  \n",
       "mean     0.371390    0.852120     60.870000  \n",
       "std      0.212688    0.077725     28.895372  \n",
       "min      0.045000    0.627000     18.000000  \n",
       "25%      0.205000    0.808750     35.000000  \n",
       "50%      0.324000    0.859000     61.500000  \n",
       "75%      0.521000    0.905000     86.000000  \n",
       "max      0.917000    0.977000    117.000000  "
      ]
     },
     "execution_count": 51,
     "metadata": {},
     "output_type": "execute_result"
    }
   ],
   "source": [
    "pd.DataFrame(df).describe()"
   ]
  },
  {
   "cell_type": "code",
   "execution_count": 85,
   "metadata": {},
   "outputs": [
    {
     "name": "stdout",
     "output_type": "stream",
     "text": [
      "/scratch/maghoi/data/3may/T0V1_234\n",
      "Test 0 val 1\n",
      "/scratch/maghoi/data/3may/T0V2_134\n",
      "Test 0 val 2\n",
      "/scratch/maghoi/data/3may/T0V3_124\n",
      "Test 0 val 3\n",
      "/scratch/maghoi/data/3may/T0V4_123\n",
      "Test 0 val 4\n",
      "/scratch/maghoi/data/3may/T1V0_234\n",
      "Test 1 val 0\n",
      "/scratch/maghoi/data/3may/T1V2_034\n",
      "Test 1 val 2\n",
      "/scratch/maghoi/data/3may/T1V3_024\n",
      "Test 1 val 3\n",
      "/scratch/maghoi/data/3may/T1V4_023\n",
      "Test 1 val 4\n",
      "/scratch/maghoi/data/3may/T2V0_134\n",
      "Test 2 val 0\n",
      "/scratch/maghoi/data/3may/T2V1_034\n",
      "Test 2 val 1\n",
      "/scratch/maghoi/data/3may/T2V3_014\n",
      "Test 2 val 3\n",
      "/scratch/maghoi/data/3may/T2V4_013\n",
      "Test 2 val 4\n",
      "/scratch/maghoi/data/3may/T3V0_124\n",
      "Test 3 val 0\n",
      "/scratch/maghoi/data/3may/T3V1_024\n",
      "Test 3 val 1\n",
      "/scratch/maghoi/data/3may/T3V2_014\n",
      "Test 3 val 2\n",
      "/scratch/maghoi/data/3may/T3V4_012\n",
      "Test 3 val 4\n",
      "/scratch/maghoi/data/3may/T4V0_123\n",
      "Test 4 val 0\n",
      "/scratch/maghoi/data/3may/T4V1_023\n",
      "Test 4 val 1\n",
      "/scratch/maghoi/data/3may/T4V2_013\n",
      "Test 4 val 2\n",
      "/scratch/maghoi/data/3may/T4V3_012\n",
      "Test 4 val 3\n"
     ]
    }
   ],
   "source": [
    "data = [p0, p1, p2, p3, p4]\n",
    "partitions = [0, 1, 2, 3, 4]\n",
    "\n",
    "#Check right number of partitions\n",
    "saved_models = glob.glob(\"/scratch/maghoi/data/3may/T*\")\n",
    "print(len(saved_models) == 20, len(saved_models), \"== 20\")\n",
    "\n",
    "preds = []\n",
    "names = []\n",
    "for filename in saved_models:\n",
    "    test_part = re.search('.*T(\\d).*', filename).group(1)\n",
    "    val_part = re.search('.*V(\\d)_', filename).group(1)\n",
    "    filepath = filename[:-4]\n",
    "    \n",
    "    print(\"Test\", test_part, \"val\", val_part)\n",
    "    print(filepath)\n",
    "    \n",
    "    #Set train and valid parts\n",
    "    train = data[val_part]\n",
    "    valid = data[test_part]\n",
    "    \n",
    "    #Load data\n",
    "    Xt,yt, Xt_val, yt_val = data_generator(train, valid)\n",
    "    X, X_val = map(lambda x: to_torch_data(x,float,torch.float32),(Xp, Xp_val, Xp_test))\n",
    "    y, y_val = map(lambda x: to_torch_data(x,int,torch.int64),(yp, yp_val, yp_test))\n",
    "    train_ds = tdatautils.TensorDataset(X, y)\n",
    "    valid_ds0 = tdatautils.TensorDataset(X0_val, y0_val)\n",
    "\n",
    "    #Setup model\n",
    "    my_data_bunch = DataBunch.create(train_ds, valid_ds, bs=batch_size)\n",
    "    net = Model().cuda()\n",
    "    learn = Learner(my_data_bunch,\n",
    "                         net,\n",
    "                         opt_func=torch.optim.Adam,\n",
    "                         loss_func=criterion, metrics=[accuracy],\n",
    "                         callback_fns=[partial(EarlyStoppingCallback, min_delta=0.01, patience=3)],\n",
    "                         wd = 0.01)\n",
    "\n",
    "    #Stats\n",
    "    learn.load(filepath)\n",
    "    stats_to_csv(comment = \"testcheck\", val_part = val_part, ds = DatasetType.Valid)\n",
    "    \n",
    "    #Extract predictions\n",
    "    preds = learn.get_preds()[0]\n",
    "    y_scores = outputs[:, 1]\n",
    "    preds.append(y_scores)\n",
    "    names.append(\"T\" + str(test_part) + \"V\" + str(val_part))\n",
    "\n",
    "#Save to file\n",
    "preds = pd.DataFrame(preds)\n",
    "names = pd.DataFrame(names)\n",
    "\n",
    "pd.to_pickle(preds, \"preds\")\n",
    "pd.to_pickle(names, \"names\")"
   ]
  },
  {
   "cell_type": "code",
   "execution_count": null,
   "metadata": {},
   "outputs": [],
   "source": [
    "#Validation check nested cross-val\n",
    "data = [p0, p1, p2, p3, p4]\n",
    "\n",
    "run = 0\n",
    "partitions = [0, 1, 2, 3, 4]\n",
    "for i in partitions:\n",
    "    partitions = [0, 1, 2, 3, 4]\n",
    "    test_part = data[i]\n",
    "    partitions.remove(i)\n",
    "    \n",
    "    for i2 in partitions:\n",
    "        remaining = partitions.copy()\n",
    "        val_part = data[i2]\n",
    "        remaining.remove(i2)\n",
    "        \n",
    "        train = []\n",
    "        train_i3 = []\n",
    "        for i3 in remaining:\n",
    "            train += data[i3]\n",
    "            train_i3.append(i3)\n",
    "            \n",
    "        train_i3 = \"\".join(map(str, train_i3))\n",
    "        run += 1\n",
    "        print(run, \"/ 20\", \" ... Test\", i, \"Val\", i2, \"Train\", train_i3)\n",
    "        #print(\"Test\", test_part, \"Val\", val_part, \"Train\", train)\n",
    "        \n",
    "        train = train\n",
    "        valid = val_part\n",
    "        test = test_part\n",
    "        \n",
    "        #Load data\n",
    "        Xt,yt, Xt_val, yt_val, Xt_test, yt_test = data_generator(train, valid, test)\n",
    "        X0, y0, X0_val, y0_val, X0_test, y0_test = Xt.copy(), yt.copy(), Xt_val.copy(), yt_val.copy(), Xt_test.copy(), yt_test.copy()\n",
    "\n",
    "        #Upsample\n",
    "        Xp, yp = upsample(Xt, yt)\n",
    "        Xp_val, yp_val = upsample(Xt_val, yt_val)\n",
    "        Xp_test, yp_test = upsample(Xt_test, yt_test)\n",
    "\n",
    "        X, X_val, X_test = map(lambda x: to_torch_data(x,float,torch.float32),(Xp, Xp_val, Xp_test))\n",
    "        y, y_val, y_test = map(lambda x: to_torch_data(x,int,torch.int64),(yp, yp_val, yp_test))\n",
    "        X0, X0_val, X0_test = map(lambda x: to_torch_data(x,float,torch.float32),(X0, X0_val, X0_test))\n",
    "        y0, y0_val, y0_test = map(lambda x: to_torch_data(x,int,torch.int64),(y0, y0_val, y0_test))\n",
    "\n",
    "        train_ds = tdatautils.TensorDataset(X, y)\n",
    "        valid_ds0 = tdatautils.TensorDataset(X0_val, y0_val)\n",
    "        test_ds0 = tdatautils.TensorDataset(X0_test, y0_test)\n",
    "        \n",
    "        #Run model\n",
    "        my_data_bunch = DataBunch.create(train_ds, valid_ds0, test_ds0, bs=batch_size)\n",
    "        net = Model().cuda()\n",
    "        learn = Learner(my_data_bunch,\n",
    "                             net,\n",
    "                             opt_func=torch.optim.Adam,\n",
    "                             loss_func=criterion, metrics=[accuracy],\n",
    "                             callback_fns=[partial(EarlyStoppingCallback, min_delta=0.01, patience=3)],\n",
    "                             wd = 0.01)\n",
    "\n",
    "        #Stats\n",
    "        filepath = simple_train(cycles = 4, epochs = 4*[1], LR = [1e-02, 1e-01, 1e-02, 1e-01, 1e-03, 5e-02, 1e-03, 5e-02],\n",
    "                                        learn = learn, comment = \"NCV\",\n",
    "                                       val_part = 3, test_part = 4)\n",
    "\n",
    "        learn.load(filepath)\n",
    "        stats_to_csv(comment = \"3may\", val_part = i2, test_part = i, ds = DatasetType.Valid, learn = learn)\n",
    "        stats_to_csv(comment = \"3may\", val_part = i2, test_part = i, ds = DatasetType.Test, learn = learn)"
   ]
  },
  {
   "cell_type": "code",
   "execution_count": 146,
   "metadata": {},
   "outputs": [],
   "source": [
    "predictions = pd.read_pickle(\"preds\")\n",
    "predictions = predictions.astype(np.float64)"
   ]
  },
  {
   "cell_type": "code",
   "execution_count": 147,
   "metadata": {},
   "outputs": [],
   "source": [
    "names = pd.read_pickle(\"names\")"
   ]
  },
  {
   "cell_type": "code",
   "execution_count": 148,
   "metadata": {},
   "outputs": [],
   "source": [
    "predictions = predictions.astype(np.float64)\n"
   ]
  },
  {
   "cell_type": "code",
   "execution_count": 149,
   "metadata": {},
   "outputs": [],
   "source": [
    "pp0 = np.average(predictions[0:4], axis = 0)\n",
    "pp1 = np.average(predictions[4:8], axis = 0)\n",
    "pp2 = np.average(predictions[8:12], axis = 0)\n",
    "pp3 = np.average(predictions[12:16], axis = 0)\n",
    "pp4 = np.average(predictions[16:20], axis = 0)"
   ]
  },
  {
   "cell_type": "code",
   "execution_count": 144,
   "metadata": {},
   "outputs": [],
   "source": [
    "targets = np.array(pd.DataFrame(targets).apply(lambda x: np.where(x == 0, False, True)))"
   ]
  },
  {
   "cell_type": "code",
   "execution_count": 341,
   "metadata": {},
   "outputs": [],
   "source": [
    "def record_stats_nested(outputs, targets):\n",
    "\n",
    "    #Find highest multi-class prediction (yes, this is wrong ...)\n",
    "    yhat = outputs[0:len(targets)]\n",
    "\n",
    "    #Pairwise comparison\n",
    "    yhat = np.array(yhat)\n",
    "    y_true = np.array(targets)\n",
    "    y_scores = outputs\n",
    "    y_scores_binary = np.where(y_scores > 0.5, 1, 0)\n",
    "    \n",
    "    correct = y_scores_binary == y_true\n",
    "    auc = roc_auc_score(y_true, y_scores)\n",
    "    mcc = matthews_corrcoef(y_true, y_scores_binary)\n",
    "    avp = average_precision_score(y_true, y_scores)\n",
    "\n",
    "    correct = round(sum(correct) / len(targets), 3)\n",
    "    auc = round(auc, 3)\n",
    "    mcc = round(mcc, 3)\n",
    "    avp = round(avp, 3)\n",
    "\n",
    "    confusion = confusion_matrix(y_true, y_scores_binary)\n",
    "    tn, fp, fn, tp = confusion_matrix(y_true, y_scores_binary).ravel()\n",
    "    tpr = (tp / (tp+fn))\n",
    "    tnr = (tn / (tn+fp))\n",
    "    tpr = round(tpr, 3)\n",
    "    tnr = round(tnr, 3)\n",
    "    \n",
    "    return(correct, auc, mcc, avp, tpr, tnr, confusion)"
   ]
  },
  {
   "cell_type": "code",
   "execution_count": 331,
   "metadata": {},
   "outputs": [],
   "source": [
    "def stats_to_csv_nested(outputs, targets, start_time = time.time(), val_part = 4, test_part = int(), comment = \"\", ds=DatasetType.Valid):\n",
    "    train_str = [0, 1, 2, 3, 4]\n",
    "    val_str = val_part\n",
    "    test_str = test_part\n",
    "    \n",
    "    stat_df = pd.DataFrame(columns = [\"Comment\", \"Test\", \"Validation\", \"Training\", \"Correct\", \"AUC\", \"MCC\", \"AVP\", \"TPR\", \"TNR\", \"Confusion matrix\", \"Duration (s)\", \"Timestamp\"])\n",
    "    \n",
    "    #Check for CSV file\n",
    "    if not glob.glob(\"check.csv\"):\n",
    "        stat_df.to_csv(\"check.csv\", mode = \"w\", header = True, index = False)\n",
    "    \n",
    "    #Remove val / test from training parts\n",
    "    train_str.remove(val_str)\n",
    "    if test_part != int():\n",
    "        train_str.remove(test_str)\n",
    "    \n",
    "    #Get model performance\n",
    "    data = record_stats_nested(outputs, targets)\n",
    "    \n",
    "    duration = round(time.time() - start_time)\n",
    "    timestamp = str(datetime.datetime.now())\n",
    "    \n",
    "    #Add to stat_df and save to CSV\n",
    "    row = [comment, test_str, val_str, train_str] + list(data) + [duration, timestamp]\n",
    "    stat_df.loc[len(stat_df)] = row\n",
    "    stat_df.to_csv(\"check.csv\", mode = \"a\", header = False, index = True)\n",
    "    print(row)"
   ]
  },
  {
   "cell_type": "code",
   "execution_count": 344,
   "metadata": {},
   "outputs": [
    {
     "name": "stdout",
     "output_type": "stream",
     "text": [
      "Loading predictions, names and targets data ...\n",
      "Test 0 ['T0V1']\n",
      "['1stNCV', 0, 0, [1, 2, 3, 4], 0.804, 0.804, 0.415, 0.499, 0.643, 0.836, array([[234,  46],\n",
      "       [ 20,  36]]), 521, '2019-05-07 15:25:07.777682']\n",
      "Test 1 ['T1V0']\n",
      "['1stNCV', 0, 1, [0, 2, 3, 4], 0.843, 0.655, 0.292, 0.381, 0.231, 0.965, array([[251,   9],\n",
      "       [ 40,  12]]), 521, '2019-05-07 15:25:07.799503']\n",
      "Test 2 ['T2V0']\n",
      "['1stNCV', 0, 2, [0, 1, 3, 4], 0.781, 0.776, 0.232, 0.415, 0.375, 0.862, array([[207,  33],\n",
      "       [ 30,  18]]), 521, '2019-05-07 15:25:07.825952']\n",
      "Test 3 ['T3V0']\n",
      "['1stNCV', 0, 3, [0, 1, 2, 4], 0.837, 0.713, 0.255, 0.379, 0.205, 0.964, array([[212,   8],\n",
      "       [ 35,   9]]), 521, '2019-05-07 15:25:07.847574']\n",
      "Test 4 ['T4V0']\n",
      "['1stNCV', 0, 4, [0, 1, 2, 3], 0.761, 0.606, -0.017, 0.289, 0.091, 0.895, array([[197,  23],\n",
      "       [ 40,   4]]), 521, '2019-05-07 15:25:07.874768']\n"
     ]
    }
   ],
   "source": [
    "#check prediction/\n",
    "print(\"Loading predictions, names and targets data ...\")\n",
    "\n",
    "#Load data\n",
    "names = pd.read_pickle(\"names\")\n",
    "\n",
    "y_hat = pd.read_pickle(\"preds\")\n",
    "y_hat = y_hat.astype(np.float64)\n",
    "\n",
    "y_true = pd.read_pickle(\"targets\")\n",
    "#y_true = np.array(pd.read_pickle(\"targets\"))\n",
    "#y_true = y_true.astype(np.int64)\n",
    "\n",
    "#Averaging\n",
    "pp0 = np.average(y_hat[0:4], axis = 0)\n",
    "pp1 = np.average(y_hat[4:8], axis = 0)\n",
    "pp2 = np.average(y_hat[8:12], axis = 0)\n",
    "pp3 = np.average(y_hat[12:16], axis = 0)\n",
    "pp4 = np.average(y_hat[16:20], axis = 0)\n",
    "\n",
    "all_predictions = [pp0, pp1, pp2, pp3, pp4]\n",
    "test_sets = names.iloc[[0, 4, 8, 12, 16]].values\n",
    "\n",
    "#Calculate statistics\n",
    "for i, name in enumerate(test_sets):\n",
    "    test_part = int(re.search('.*T(\\d).*', str(name)).group(1))\n",
    "    print(\"Test\", test_part, name)\n",
    "\n",
    "    outputs = np.array(all_predictions[i])\n",
    "    outputs = outputs[~np.isnan(outputs)].astype(np.float64)\n",
    "    \n",
    "    targets = np.array(y_true.iloc[i*4, :].dropna())\n",
    "    targets = targets.astype(np.int64)\n",
    "    stats_to_csv_nested(outputs, targets, val_part = test_part, comment = \"1stNCV\")\n"
   ]
  }
 ],
 "metadata": {
  "celltoolbar": "Initialization Cell",
  "kernelspec": {
   "display_name": "Python [conda env:fastai_py37]",
   "language": "python",
   "name": "conda-env-fastai_py37-py"
  },
  "language_info": {
   "codemirror_mode": {
    "name": "ipython",
    "version": 3
   },
   "file_extension": ".py",
   "mimetype": "text/x-python",
   "name": "python",
   "nbconvert_exporter": "python",
   "pygments_lexer": "ipython3",
   "version": "3.7.2"
  },
  "toc": {
   "base_numbering": 1,
   "nav_menu": {},
   "number_sections": true,
   "sideBar": true,
   "skip_h1_title": false,
   "title_cell": "Table of Contents",
   "title_sidebar": "Contents",
   "toc_cell": false,
   "toc_position": {},
   "toc_section_display": true,
   "toc_window_display": false
  },
  "varInspector": {
   "cols": {
    "lenName": 16,
    "lenType": 16,
    "lenVar": 40
   },
   "kernels_config": {
    "python": {
     "delete_cmd_postfix": "",
     "delete_cmd_prefix": "del ",
     "library": "var_list.py",
     "varRefreshCmd": "print(var_dic_list())"
    },
    "r": {
     "delete_cmd_postfix": ") ",
     "delete_cmd_prefix": "rm(",
     "library": "var_list.r",
     "varRefreshCmd": "cat(var_dic_list()) "
    }
   },
   "oldHeight": 495.996,
   "position": {
    "height": "518.477px",
    "left": "1302.5px",
    "right": "20px",
    "top": "96px",
    "width": "350px"
   },
   "types_to_exclude": [
    "module",
    "function",
    "builtin_function_or_method",
    "instance",
    "_Feature"
   ],
   "varInspector_section_display": "block",
   "window_display": false
  }
 },
 "nbformat": 4,
 "nbformat_minor": 2
}
